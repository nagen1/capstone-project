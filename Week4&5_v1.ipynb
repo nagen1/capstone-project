{
 "cells": [
  {
   "cell_type": "markdown",
   "metadata": {
    "button": false,
    "deletable": true,
    "new_sheet": false,
    "run_control": {
     "read_only": false
    }
   },
   "source": [
    "<a href=\"https://cognitiveclass.ai\"><img src = \"https://ibm.box.com/shared/static/9gegpsmnsoo25ikkbl4qzlvlyjbgxs5x.png\" width = 400> </a>\n",
    "\n",
    "<h1 align=center><font size = 5>Learning FourSquare API with Python</font></h1>"
   ]
  },
  {
   "cell_type": "markdown",
   "metadata": {
    "button": false,
    "deletable": true,
    "new_sheet": false,
    "run_control": {
     "read_only": false
    }
   },
   "source": [
    "   "
   ]
  },
  {
   "cell_type": "markdown",
   "metadata": {
    "button": false,
    "deletable": true,
    "new_sheet": false,
    "run_control": {
     "read_only": false
    }
   },
   "source": [
    "## Introduction\n",
    "\n",
    "In this lab, you will learn in details how to make calls to the Foursquare API for different purposes. You will learn how to construct a URL to send a request to the API to search for a specific type of venues, to explore a particular venue, to explore a Foursquare user, to explore a geographical location, and to get trending venues around a location. Also, you will learn how to use the visualization library, Folium, to visualize the results."
   ]
  },
  {
   "cell_type": "markdown",
   "metadata": {
    "button": false,
    "deletable": true,
    "new_sheet": false,
    "run_control": {
     "read_only": false
    }
   },
   "source": [
    "## Table of Contents\n",
    "\n",
    "1. <a href=\"#item1\">Foursquare API Search Function</a>\n",
    "2. <a href=\"#item2\">Explore a Given Venue</a>  \n",
    "3. <a href=\"#item3\">Explore a User</a>  \n",
    "4. <a href=\"#item4\">Foursquare API Explore Function</a>  \n",
    "5. <a href=\"#item5\">Get Trending Venues</a>  "
   ]
  },
  {
   "cell_type": "markdown",
   "metadata": {
    "button": false,
    "deletable": true,
    "new_sheet": false,
    "run_control": {
     "read_only": false
    }
   },
   "source": [
    "### Import necessary Libraries"
   ]
  },
  {
   "cell_type": "code",
   "execution_count": 1,
   "metadata": {
    "button": false,
    "collapsed": false,
    "deletable": true,
    "jupyter": {
     "outputs_hidden": false
    },
    "new_sheet": false,
    "run_control": {
     "read_only": false
    }
   },
   "outputs": [
    {
     "name": "stdout",
     "output_type": "stream",
     "text": [
      "Solving environment: done\n",
      "\n",
      "\n",
      "==> WARNING: A newer version of conda exists. <==\n",
      "  current version: 4.5.11\n",
      "  latest version: 4.8.1\n",
      "\n",
      "Please update conda by running\n",
      "\n",
      "    $ conda update -n base -c defaults conda\n",
      "\n",
      "\n",
      "\n",
      "# All requested packages already installed.\n",
      "\n",
      "Solving environment: done\n",
      "\n",
      "\n",
      "==> WARNING: A newer version of conda exists. <==\n",
      "  current version: 4.5.11\n",
      "  latest version: 4.8.1\n",
      "\n",
      "Please update conda by running\n",
      "\n",
      "    $ conda update -n base -c defaults conda\n",
      "\n",
      "\n",
      "\n",
      "# All requested packages already installed.\n",
      "\n",
      "Folium installed\n",
      "Libraries imported.\n"
     ]
    }
   ],
   "source": [
    "import requests # library to handle requests\n",
    "import pandas as pd # library for data analsysis\n",
    "import numpy as np # library to handle data in a vectorized manner\n",
    "import random # library for random number generation\n",
    "\n",
    "!conda install -c conda-forge geopy --yes \n",
    "from geopy.geocoders import Nominatim # module to convert an address into latitude and longitude values\n",
    "\n",
    "# libraries for displaying images\n",
    "from IPython.display import Image \n",
    "from IPython.core.display import HTML \n",
    "    \n",
    "# tranforming json file into a pandas dataframe library\n",
    "from pandas.io.json import json_normalize\n",
    "\n",
    "!conda install -c conda-forge folium=0.5.0 --yes\n",
    "import folium # plotting library\n",
    "\n",
    "print('Folium installed')\n",
    "print('Libraries imported.')"
   ]
  },
  {
   "cell_type": "markdown",
   "metadata": {
    "button": false,
    "deletable": true,
    "new_sheet": false,
    "run_control": {
     "read_only": false
    }
   },
   "source": [
    "### Define Foursquare Credentials and Version"
   ]
  },
  {
   "cell_type": "markdown",
   "metadata": {
    "button": false,
    "deletable": true,
    "new_sheet": false,
    "run_control": {
     "read_only": false
    }
   },
   "source": [
    "##### Make sure that you have created a Foursquare developer account and have your credentials handy"
   ]
  },
  {
   "cell_type": "code",
   "execution_count": 2,
   "metadata": {
    "button": false,
    "collapsed": false,
    "deletable": true,
    "jupyter": {
     "outputs_hidden": false
    },
    "new_sheet": false,
    "run_control": {
     "read_only": false
    }
   },
   "outputs": [
    {
     "name": "stdout",
     "output_type": "stream",
     "text": [
      "Your credentails:\n",
      "CLIENT_ID: EZU3NNX0BFUXMY5KLVPGCZHL4V1BWKVDNNQ4SUSP3WNL0LQ1\n",
      "CLIENT_SECRET:YFWMVYKKS14SQ1D2WZNM5TSJVTEUR4UNVJ4TFBOZ4TJLP4XZ\n"
     ]
    }
   ],
   "source": [
    "CLIENT_ID = 'EZU3NNX0BFUXMY5KLVPGCZHL4V1BWKVDNNQ4SUSP3WNL0LQ1' # your Foursquare ID\n",
    "CLIENT_SECRET = 'YFWMVYKKS14SQ1D2WZNM5TSJVTEUR4UNVJ4TFBOZ4TJLP4XZ' # your Foursquare Secret\n",
    "VERSION = '20180604'\n",
    "LIMIT = 200\n",
    "print('Your credentails:')\n",
    "print('CLIENT_ID: ' + CLIENT_ID)\n",
    "print('CLIENT_SECRET:' + CLIENT_SECRET)"
   ]
  },
  {
   "cell_type": "markdown",
   "metadata": {
    "button": false,
    "deletable": true,
    "new_sheet": false,
    "run_control": {
     "read_only": false
    }
   },
   "source": [
    "  "
   ]
  },
  {
   "cell_type": "markdown",
   "metadata": {
    "button": false,
    "deletable": true,
    "new_sheet": false,
    "run_control": {
     "read_only": false
    }
   },
   "source": [
    "#### Let's again assume that you are staying at the Conrad hotel. So let's start by converting the Contrad Hotel's address to its latitude and longitude coordinates."
   ]
  },
  {
   "cell_type": "markdown",
   "metadata": {},
   "source": [
    "In order to define an instance of the geocoder, we need to define a user_agent. We will name our agent <em>foursquare_agent</em>, as shown below."
   ]
  },
  {
   "cell_type": "code",
   "execution_count": 3,
   "metadata": {
    "button": false,
    "collapsed": false,
    "deletable": true,
    "jupyter": {
     "outputs_hidden": false
    },
    "new_sheet": false,
    "run_control": {
     "read_only": false
    }
   },
   "outputs": [
    {
     "name": "stdout",
     "output_type": "stream",
     "text": [
      "47.7223199 -122.3604067\n"
     ]
    }
   ],
   "source": [
    "address = 'Broadview, Seattle, US'\n",
    "\n",
    "geolocator = Nominatim(user_agent=\"foursquare_agent\")\n",
    "location = geolocator.geocode(address)\n",
    "latitude = location.latitude\n",
    "longitude = location.longitude\n",
    "print(latitude, longitude)"
   ]
  },
  {
   "cell_type": "markdown",
   "metadata": {
    "button": false,
    "deletable": true,
    "new_sheet": false,
    "run_control": {
     "read_only": false
    }
   },
   "source": [
    "   "
   ]
  },
  {
   "cell_type": "markdown",
   "metadata": {
    "button": false,
    "deletable": true,
    "new_sheet": false,
    "run_control": {
     "read_only": false
    }
   },
   "source": [
    "<a id=\"item1\"></a>"
   ]
  },
  {
   "cell_type": "markdown",
   "metadata": {
    "button": false,
    "deletable": true,
    "new_sheet": false,
    "run_control": {
     "read_only": false
    }
   },
   "source": [
    "## 1. Search for a specific venue category\n",
    "> `https://api.foursquare.com/v2/venues/`**search**`?client_id=`**CLIENT_ID**`&client_secret=`**CLIENT_SECRET**`&ll=`**LATITUDE**`,`**LONGITUDE**`&v=`**VERSION**`&query=`**QUERY**`&radius=`**RADIUS**`&limit=`**LIMIT**"
   ]
  },
  {
   "cell_type": "markdown",
   "metadata": {
    "button": false,
    "deletable": true,
    "new_sheet": false,
    "run_control": {
     "read_only": false
    }
   },
   "source": [
    "#### Now, let's assume that it is lunch time, and you are craving Italian food. So, let's define a query to search for Italian food that is within 500 metres from the Conrad Hotel. "
   ]
  },
  {
   "cell_type": "code",
   "execution_count": 4,
   "metadata": {
    "button": false,
    "collapsed": false,
    "deletable": true,
    "jupyter": {
     "outputs_hidden": false
    },
    "new_sheet": false,
    "run_control": {
     "read_only": false
    },
    "scrolled": true
   },
   "outputs": [
    {
     "name": "stdout",
     "output_type": "stream",
     "text": [
      "coffee .... OK!\n"
     ]
    }
   ],
   "source": [
    "search_query = 'coffee'\n",
    "radius = 5000\n",
    "print(search_query + ' .... OK!')"
   ]
  },
  {
   "cell_type": "markdown",
   "metadata": {
    "button": false,
    "deletable": true,
    "new_sheet": false,
    "run_control": {
     "read_only": false
    }
   },
   "source": [
    "#### Define the corresponding URL"
   ]
  },
  {
   "cell_type": "code",
   "execution_count": 5,
   "metadata": {
    "button": false,
    "collapsed": false,
    "deletable": true,
    "jupyter": {
     "outputs_hidden": false
    },
    "new_sheet": false,
    "run_control": {
     "read_only": false
    }
   },
   "outputs": [
    {
     "data": {
      "text/plain": [
       "'https://api.foursquare.com/v2/venues/search?client_id=EZU3NNX0BFUXMY5KLVPGCZHL4V1BWKVDNNQ4SUSP3WNL0LQ1&client_secret=YFWMVYKKS14SQ1D2WZNM5TSJVTEUR4UNVJ4TFBOZ4TJLP4XZ&ll=43.653963,-79.387207&v=20180604&query=coffee&radius=5000&limit=200'"
      ]
     },
     "execution_count": 5,
     "metadata": {},
     "output_type": "execute_result"
    }
   ],
   "source": [
    "url = 'https://api.foursquare.com/v2/venues/search?client_id={}&client_secret={}&ll={},{}&v={}&query={}&radius={}&limit={}'.format(CLIENT_ID, CLIENT_SECRET, latitude, longitude, VERSION, search_query, radius, LIMIT)\n",
    "url"
   ]
  },
  {
   "cell_type": "markdown",
   "metadata": {
    "button": false,
    "deletable": true,
    "new_sheet": false,
    "run_control": {
     "read_only": false
    }
   },
   "source": [
    "#### Send the GET Request and examine the results"
   ]
  },
  {
   "cell_type": "code",
   "execution_count": 6,
   "metadata": {
    "button": false,
    "collapsed": false,
    "deletable": true,
    "jupyter": {
     "outputs_hidden": false
    },
    "new_sheet": false,
    "run_control": {
     "read_only": false
    },
    "scrolled": true
   },
   "outputs": [],
   "source": [
    "results = requests.get(url).json()\n",
    "# results"
   ]
  },
  {
   "cell_type": "markdown",
   "metadata": {
    "button": false,
    "deletable": true,
    "new_sheet": false,
    "run_control": {
     "read_only": false
    }
   },
   "source": [
    "#### Get relevant part of JSON and transform it into a *pandas* dataframe"
   ]
  },
  {
   "cell_type": "code",
   "execution_count": 7,
   "metadata": {
    "button": false,
    "collapsed": false,
    "deletable": true,
    "jupyter": {
     "outputs_hidden": false
    },
    "new_sheet": false,
    "run_control": {
     "read_only": false
    }
   },
   "outputs": [
    {
     "name": "stdout",
     "output_type": "stream",
     "text": [
      "Shape of the data frame -  (50, 19)\n"
     ]
    },
    {
     "data": {
      "text/html": [
       "<div>\n",
       "<style scoped>\n",
       "    .dataframe tbody tr th:only-of-type {\n",
       "        vertical-align: middle;\n",
       "    }\n",
       "\n",
       "    .dataframe tbody tr th {\n",
       "        vertical-align: top;\n",
       "    }\n",
       "\n",
       "    .dataframe thead th {\n",
       "        text-align: right;\n",
       "    }\n",
       "</style>\n",
       "<table border=\"1\" class=\"dataframe\">\n",
       "  <thead>\n",
       "    <tr style=\"text-align: right;\">\n",
       "      <th></th>\n",
       "      <th>id</th>\n",
       "      <th>name</th>\n",
       "      <th>categories</th>\n",
       "      <th>referralId</th>\n",
       "      <th>hasPerk</th>\n",
       "      <th>location.address</th>\n",
       "      <th>location.crossStreet</th>\n",
       "      <th>location.lat</th>\n",
       "      <th>location.lng</th>\n",
       "      <th>location.labeledLatLngs</th>\n",
       "      <th>location.distance</th>\n",
       "      <th>location.postalCode</th>\n",
       "      <th>location.cc</th>\n",
       "      <th>location.neighborhood</th>\n",
       "      <th>location.city</th>\n",
       "      <th>location.state</th>\n",
       "      <th>location.country</th>\n",
       "      <th>location.formattedAddress</th>\n",
       "      <th>venuePage.id</th>\n",
       "    </tr>\n",
       "  </thead>\n",
       "  <tbody>\n",
       "    <tr>\n",
       "      <th>0</th>\n",
       "      <td>59f784dd28122f14f9d5d63d</td>\n",
       "      <td>HotBlack Coffee</td>\n",
       "      <td>[{'id': '4bf58dd8d48988d1e0931735', 'name': 'C...</td>\n",
       "      <td>v-1580333027</td>\n",
       "      <td>False</td>\n",
       "      <td>245 Queen Street West</td>\n",
       "      <td>at St Patrick St</td>\n",
       "      <td>43.650364</td>\n",
       "      <td>-79.388669</td>\n",
       "      <td>[{'label': 'display', 'lat': 43.65036434800487...</td>\n",
       "      <td>417</td>\n",
       "      <td>M5V 1Z4</td>\n",
       "      <td>CA</td>\n",
       "      <td>Entertainment District</td>\n",
       "      <td>Toronto</td>\n",
       "      <td>ON</td>\n",
       "      <td>Canada</td>\n",
       "      <td>[245 Queen Street West (at St Patrick St), Tor...</td>\n",
       "      <td>463001529</td>\n",
       "    </tr>\n",
       "    <tr>\n",
       "      <th>1</th>\n",
       "      <td>4b44fc77f964a520cc0026e3</td>\n",
       "      <td>Timothy's World Coffee</td>\n",
       "      <td>[{'id': '4bf58dd8d48988d1e0931735', 'name': 'C...</td>\n",
       "      <td>v-1580333027</td>\n",
       "      <td>False</td>\n",
       "      <td>427 University Avenue</td>\n",
       "      <td>NaN</td>\n",
       "      <td>43.654053</td>\n",
       "      <td>-79.388090</td>\n",
       "      <td>[{'label': 'display', 'lat': 43.65405317976302...</td>\n",
       "      <td>71</td>\n",
       "      <td>NaN</td>\n",
       "      <td>CA</td>\n",
       "      <td>NaN</td>\n",
       "      <td>Toronto</td>\n",
       "      <td>ON</td>\n",
       "      <td>Canada</td>\n",
       "      <td>[427 University Avenue, Toronto ON, Canada]</td>\n",
       "      <td>NaN</td>\n",
       "    </tr>\n",
       "    <tr>\n",
       "      <th>2</th>\n",
       "      <td>53e8acc4498ee294fb100183</td>\n",
       "      <td>Timothy's World Coffee</td>\n",
       "      <td>[{'id': '4bf58dd8d48988d1e0931735', 'name': 'C...</td>\n",
       "      <td>v-1580333027</td>\n",
       "      <td>False</td>\n",
       "      <td>425 University Ave</td>\n",
       "      <td>Dundas</td>\n",
       "      <td>43.654270</td>\n",
       "      <td>-79.387448</td>\n",
       "      <td>[{'label': 'display', 'lat': 43.65427, 'lng': ...</td>\n",
       "      <td>39</td>\n",
       "      <td>M5G 1T6</td>\n",
       "      <td>CA</td>\n",
       "      <td>NaN</td>\n",
       "      <td>Toronto</td>\n",
       "      <td>ON</td>\n",
       "      <td>Canada</td>\n",
       "      <td>[425 University Ave (Dundas), Toronto ON M5G 1...</td>\n",
       "      <td>NaN</td>\n",
       "    </tr>\n",
       "    <tr>\n",
       "      <th>3</th>\n",
       "      <td>563d2f2dcd10bcf27ae37c3b</td>\n",
       "      <td>Pilot Coffee Roasters</td>\n",
       "      <td>[{'id': '4bf58dd8d48988d1e0931735', 'name': 'C...</td>\n",
       "      <td>v-1580333027</td>\n",
       "      <td>False</td>\n",
       "      <td>65 Front St W</td>\n",
       "      <td>btwn Bay St &amp; York St</td>\n",
       "      <td>43.645018</td>\n",
       "      <td>-79.380415</td>\n",
       "      <td>[{'label': 'display', 'lat': 43.64501814464698...</td>\n",
       "      <td>1136</td>\n",
       "      <td>M5J 1E6</td>\n",
       "      <td>CA</td>\n",
       "      <td>NaN</td>\n",
       "      <td>Toronto</td>\n",
       "      <td>ON</td>\n",
       "      <td>Canada</td>\n",
       "      <td>[65 Front St W (btwn Bay St &amp; York St), Toront...</td>\n",
       "      <td>NaN</td>\n",
       "    </tr>\n",
       "    <tr>\n",
       "      <th>4</th>\n",
       "      <td>4fb13c20e4b011e6f93513c0</td>\n",
       "      <td>Balzac's Coffee</td>\n",
       "      <td>[{'id': '4bf58dd8d48988d1e0931735', 'name': 'C...</td>\n",
       "      <td>v-1580333027</td>\n",
       "      <td>False</td>\n",
       "      <td>122 Bond Street</td>\n",
       "      <td>at Gould St.</td>\n",
       "      <td>43.657854</td>\n",
       "      <td>-79.379200</td>\n",
       "      <td>[{'label': 'display', 'lat': 43.65785440672277...</td>\n",
       "      <td>776</td>\n",
       "      <td>M5B 1X8</td>\n",
       "      <td>CA</td>\n",
       "      <td>NaN</td>\n",
       "      <td>Toronto</td>\n",
       "      <td>ON</td>\n",
       "      <td>Canada</td>\n",
       "      <td>[122 Bond Street (at Gould St.), Toronto ON M5...</td>\n",
       "      <td>NaN</td>\n",
       "    </tr>\n",
       "  </tbody>\n",
       "</table>\n",
       "</div>"
      ],
      "text/plain": [
       "                         id                    name  \\\n",
       "0  59f784dd28122f14f9d5d63d         HotBlack Coffee   \n",
       "1  4b44fc77f964a520cc0026e3  Timothy's World Coffee   \n",
       "2  53e8acc4498ee294fb100183  Timothy's World Coffee   \n",
       "3  563d2f2dcd10bcf27ae37c3b   Pilot Coffee Roasters   \n",
       "4  4fb13c20e4b011e6f93513c0         Balzac's Coffee   \n",
       "\n",
       "                                          categories    referralId  hasPerk  \\\n",
       "0  [{'id': '4bf58dd8d48988d1e0931735', 'name': 'C...  v-1580333027    False   \n",
       "1  [{'id': '4bf58dd8d48988d1e0931735', 'name': 'C...  v-1580333027    False   \n",
       "2  [{'id': '4bf58dd8d48988d1e0931735', 'name': 'C...  v-1580333027    False   \n",
       "3  [{'id': '4bf58dd8d48988d1e0931735', 'name': 'C...  v-1580333027    False   \n",
       "4  [{'id': '4bf58dd8d48988d1e0931735', 'name': 'C...  v-1580333027    False   \n",
       "\n",
       "        location.address   location.crossStreet  location.lat  location.lng  \\\n",
       "0  245 Queen Street West       at St Patrick St     43.650364    -79.388669   \n",
       "1  427 University Avenue                    NaN     43.654053    -79.388090   \n",
       "2     425 University Ave                 Dundas     43.654270    -79.387448   \n",
       "3          65 Front St W  btwn Bay St & York St     43.645018    -79.380415   \n",
       "4        122 Bond Street           at Gould St.     43.657854    -79.379200   \n",
       "\n",
       "                             location.labeledLatLngs  location.distance  \\\n",
       "0  [{'label': 'display', 'lat': 43.65036434800487...                417   \n",
       "1  [{'label': 'display', 'lat': 43.65405317976302...                 71   \n",
       "2  [{'label': 'display', 'lat': 43.65427, 'lng': ...                 39   \n",
       "3  [{'label': 'display', 'lat': 43.64501814464698...               1136   \n",
       "4  [{'label': 'display', 'lat': 43.65785440672277...                776   \n",
       "\n",
       "  location.postalCode location.cc   location.neighborhood location.city  \\\n",
       "0             M5V 1Z4          CA  Entertainment District       Toronto   \n",
       "1                 NaN          CA                     NaN       Toronto   \n",
       "2             M5G 1T6          CA                     NaN       Toronto   \n",
       "3             M5J 1E6          CA                     NaN       Toronto   \n",
       "4             M5B 1X8          CA                     NaN       Toronto   \n",
       "\n",
       "  location.state location.country  \\\n",
       "0             ON           Canada   \n",
       "1             ON           Canada   \n",
       "2             ON           Canada   \n",
       "3             ON           Canada   \n",
       "4             ON           Canada   \n",
       "\n",
       "                           location.formattedAddress venuePage.id  \n",
       "0  [245 Queen Street West (at St Patrick St), Tor...    463001529  \n",
       "1        [427 University Avenue, Toronto ON, Canada]          NaN  \n",
       "2  [425 University Ave (Dundas), Toronto ON M5G 1...          NaN  \n",
       "3  [65 Front St W (btwn Bay St & York St), Toront...          NaN  \n",
       "4  [122 Bond Street (at Gould St.), Toronto ON M5...          NaN  "
      ]
     },
     "execution_count": 7,
     "metadata": {},
     "output_type": "execute_result"
    }
   ],
   "source": [
    "# assign relevant part of JSON to venues\n",
    "venues = results['response']['venues']\n",
    "\n",
    "# tranform venues into a dataframe\n",
    "dataframe = json_normalize(venues)\n",
    "print(\"Shape of the data frame - \", dataframe.shape)\n",
    "dataframe.head()"
   ]
  },
  {
   "cell_type": "markdown",
   "metadata": {
    "button": false,
    "deletable": true,
    "new_sheet": false,
    "run_control": {
     "read_only": false
    }
   },
   "source": [
    "#### Define information of interest and filter dataframe"
   ]
  },
  {
   "cell_type": "code",
   "execution_count": 8,
   "metadata": {
    "button": false,
    "collapsed": false,
    "deletable": true,
    "jupyter": {
     "outputs_hidden": false
    },
    "new_sheet": false,
    "run_control": {
     "read_only": false
    },
    "scrolled": true
   },
   "outputs": [
    {
     "data": {
      "text/html": [
       "<div>\n",
       "<style scoped>\n",
       "    .dataframe tbody tr th:only-of-type {\n",
       "        vertical-align: middle;\n",
       "    }\n",
       "\n",
       "    .dataframe tbody tr th {\n",
       "        vertical-align: top;\n",
       "    }\n",
       "\n",
       "    .dataframe thead th {\n",
       "        text-align: right;\n",
       "    }\n",
       "</style>\n",
       "<table border=\"1\" class=\"dataframe\">\n",
       "  <thead>\n",
       "    <tr style=\"text-align: right;\">\n",
       "      <th></th>\n",
       "      <th>name</th>\n",
       "      <th>categories</th>\n",
       "      <th>address</th>\n",
       "      <th>crossStreet</th>\n",
       "      <th>lat</th>\n",
       "      <th>lng</th>\n",
       "      <th>labeledLatLngs</th>\n",
       "      <th>distance</th>\n",
       "      <th>postalCode</th>\n",
       "      <th>cc</th>\n",
       "      <th>neighborhood</th>\n",
       "      <th>city</th>\n",
       "      <th>state</th>\n",
       "      <th>country</th>\n",
       "      <th>formattedAddress</th>\n",
       "      <th>id</th>\n",
       "    </tr>\n",
       "  </thead>\n",
       "  <tbody>\n",
       "    <tr>\n",
       "      <th>0</th>\n",
       "      <td>HotBlack Coffee</td>\n",
       "      <td>Coffee Shop</td>\n",
       "      <td>245 Queen Street West</td>\n",
       "      <td>at St Patrick St</td>\n",
       "      <td>43.650364</td>\n",
       "      <td>-79.388669</td>\n",
       "      <td>[{'label': 'display', 'lat': 43.65036434800487...</td>\n",
       "      <td>417</td>\n",
       "      <td>M5V 1Z4</td>\n",
       "      <td>CA</td>\n",
       "      <td>Entertainment District</td>\n",
       "      <td>Toronto</td>\n",
       "      <td>ON</td>\n",
       "      <td>Canada</td>\n",
       "      <td>[245 Queen Street West (at St Patrick St), Tor...</td>\n",
       "      <td>59f784dd28122f14f9d5d63d</td>\n",
       "    </tr>\n",
       "    <tr>\n",
       "      <th>1</th>\n",
       "      <td>Timothy's World Coffee</td>\n",
       "      <td>Coffee Shop</td>\n",
       "      <td>427 University Avenue</td>\n",
       "      <td>NaN</td>\n",
       "      <td>43.654053</td>\n",
       "      <td>-79.388090</td>\n",
       "      <td>[{'label': 'display', 'lat': 43.65405317976302...</td>\n",
       "      <td>71</td>\n",
       "      <td>NaN</td>\n",
       "      <td>CA</td>\n",
       "      <td>NaN</td>\n",
       "      <td>Toronto</td>\n",
       "      <td>ON</td>\n",
       "      <td>Canada</td>\n",
       "      <td>[427 University Avenue, Toronto ON, Canada]</td>\n",
       "      <td>4b44fc77f964a520cc0026e3</td>\n",
       "    </tr>\n",
       "    <tr>\n",
       "      <th>2</th>\n",
       "      <td>Timothy's World Coffee</td>\n",
       "      <td>Coffee Shop</td>\n",
       "      <td>425 University Ave</td>\n",
       "      <td>Dundas</td>\n",
       "      <td>43.654270</td>\n",
       "      <td>-79.387448</td>\n",
       "      <td>[{'label': 'display', 'lat': 43.65427, 'lng': ...</td>\n",
       "      <td>39</td>\n",
       "      <td>M5G 1T6</td>\n",
       "      <td>CA</td>\n",
       "      <td>NaN</td>\n",
       "      <td>Toronto</td>\n",
       "      <td>ON</td>\n",
       "      <td>Canada</td>\n",
       "      <td>[425 University Ave (Dundas), Toronto ON M5G 1...</td>\n",
       "      <td>53e8acc4498ee294fb100183</td>\n",
       "    </tr>\n",
       "    <tr>\n",
       "      <th>3</th>\n",
       "      <td>Pilot Coffee Roasters</td>\n",
       "      <td>Coffee Shop</td>\n",
       "      <td>65 Front St W</td>\n",
       "      <td>btwn Bay St &amp; York St</td>\n",
       "      <td>43.645018</td>\n",
       "      <td>-79.380415</td>\n",
       "      <td>[{'label': 'display', 'lat': 43.64501814464698...</td>\n",
       "      <td>1136</td>\n",
       "      <td>M5J 1E6</td>\n",
       "      <td>CA</td>\n",
       "      <td>NaN</td>\n",
       "      <td>Toronto</td>\n",
       "      <td>ON</td>\n",
       "      <td>Canada</td>\n",
       "      <td>[65 Front St W (btwn Bay St &amp; York St), Toront...</td>\n",
       "      <td>563d2f2dcd10bcf27ae37c3b</td>\n",
       "    </tr>\n",
       "    <tr>\n",
       "      <th>4</th>\n",
       "      <td>Balzac's Coffee</td>\n",
       "      <td>Coffee Shop</td>\n",
       "      <td>122 Bond Street</td>\n",
       "      <td>at Gould St.</td>\n",
       "      <td>43.657854</td>\n",
       "      <td>-79.379200</td>\n",
       "      <td>[{'label': 'display', 'lat': 43.65785440672277...</td>\n",
       "      <td>776</td>\n",
       "      <td>M5B 1X8</td>\n",
       "      <td>CA</td>\n",
       "      <td>NaN</td>\n",
       "      <td>Toronto</td>\n",
       "      <td>ON</td>\n",
       "      <td>Canada</td>\n",
       "      <td>[122 Bond Street (at Gould St.), Toronto ON M5...</td>\n",
       "      <td>4fb13c20e4b011e6f93513c0</td>\n",
       "    </tr>\n",
       "    <tr>\n",
       "      <th>5</th>\n",
       "      <td>Timothy's World Coffee</td>\n",
       "      <td>Coffee Shop</td>\n",
       "      <td>595 Bay St,Atrium On Bay</td>\n",
       "      <td>at Atrium on Bay</td>\n",
       "      <td>43.656219</td>\n",
       "      <td>-79.383290</td>\n",
       "      <td>[{'label': 'display', 'lat': 43.656219, 'lng':...</td>\n",
       "      <td>403</td>\n",
       "      <td>M5G 2C2</td>\n",
       "      <td>CA</td>\n",
       "      <td>NaN</td>\n",
       "      <td>Toronto</td>\n",
       "      <td>ON</td>\n",
       "      <td>Canada</td>\n",
       "      <td>[595 Bay St,Atrium On Bay (at Atrium on Bay), ...</td>\n",
       "      <td>4c19447c4ff90f4765ac0f49</td>\n",
       "    </tr>\n",
       "    <tr>\n",
       "      <th>6</th>\n",
       "      <td>Sam James Coffee Bar (SJCB)</td>\n",
       "      <td>Café</td>\n",
       "      <td>150 King St. W</td>\n",
       "      <td>in the PATH</td>\n",
       "      <td>43.647881</td>\n",
       "      <td>-79.384332</td>\n",
       "      <td>[{'label': 'display', 'lat': 43.64788137014028...</td>\n",
       "      <td>715</td>\n",
       "      <td>M5H 4B6</td>\n",
       "      <td>CA</td>\n",
       "      <td>NaN</td>\n",
       "      <td>Toronto</td>\n",
       "      <td>ON</td>\n",
       "      <td>Canada</td>\n",
       "      <td>[150 King St. W (in the PATH), Toronto ON M5H ...</td>\n",
       "      <td>4fccaa8fe4b05a98df3d9417</td>\n",
       "    </tr>\n",
       "    <tr>\n",
       "      <th>7</th>\n",
       "      <td>Jimmy's Coffee</td>\n",
       "      <td>Café</td>\n",
       "      <td>191 Baldwin St</td>\n",
       "      <td>Kensington Market</td>\n",
       "      <td>43.654493</td>\n",
       "      <td>-79.401311</td>\n",
       "      <td>[{'label': 'display', 'lat': 43.65449315540114...</td>\n",
       "      <td>1137</td>\n",
       "      <td>NaN</td>\n",
       "      <td>CA</td>\n",
       "      <td>Kensington Market</td>\n",
       "      <td>Toronto</td>\n",
       "      <td>ON</td>\n",
       "      <td>Canada</td>\n",
       "      <td>[191 Baldwin St (Kensington Market), Toronto O...</td>\n",
       "      <td>51438b33e4b0a40e33fe5e77</td>\n",
       "    </tr>\n",
       "    <tr>\n",
       "      <th>8</th>\n",
       "      <td>Fahrenheit Coffee</td>\n",
       "      <td>Coffee Shop</td>\n",
       "      <td>529 Richmond St W</td>\n",
       "      <td>NaN</td>\n",
       "      <td>43.647037</td>\n",
       "      <td>-79.400876</td>\n",
       "      <td>[{'label': 'display', 'lat': 43.64703669923361...</td>\n",
       "      <td>1344</td>\n",
       "      <td>NaN</td>\n",
       "      <td>CA</td>\n",
       "      <td>Fashion District</td>\n",
       "      <td>Toronto</td>\n",
       "      <td>ON</td>\n",
       "      <td>Canada</td>\n",
       "      <td>[529 Richmond St W, Toronto ON, Canada]</td>\n",
       "      <td>584593c2ebf0284fe7b103cb</td>\n",
       "    </tr>\n",
       "    <tr>\n",
       "      <th>9</th>\n",
       "      <td>Coffee office</td>\n",
       "      <td>None</td>\n",
       "      <td>350 Bay St - 7th Floor</td>\n",
       "      <td>NaN</td>\n",
       "      <td>43.649498</td>\n",
       "      <td>-79.386479</td>\n",
       "      <td>[{'label': 'display', 'lat': 43.649498, 'lng':...</td>\n",
       "      <td>500</td>\n",
       "      <td>NaN</td>\n",
       "      <td>CA</td>\n",
       "      <td>NaN</td>\n",
       "      <td>Toronto</td>\n",
       "      <td>ON</td>\n",
       "      <td>Canada</td>\n",
       "      <td>[350 Bay St - 7th Floor, Toronto ON, Canada]</td>\n",
       "      <td>4baa31def964a52037523ae3</td>\n",
       "    </tr>\n",
       "    <tr>\n",
       "      <th>10</th>\n",
       "      <td>Fahrenheit Coffee</td>\n",
       "      <td>Coffee Shop</td>\n",
       "      <td>120 Lombard St</td>\n",
       "      <td>at Jarvis St</td>\n",
       "      <td>43.652384</td>\n",
       "      <td>-79.372719</td>\n",
       "      <td>[{'label': 'display', 'lat': 43.65238358726612...</td>\n",
       "      <td>1180</td>\n",
       "      <td>M5C 3H5</td>\n",
       "      <td>CA</td>\n",
       "      <td>NaN</td>\n",
       "      <td>Toronto</td>\n",
       "      <td>ON</td>\n",
       "      <td>Canada</td>\n",
       "      <td>[120 Lombard St (at Jarvis St), Toronto ON M5C...</td>\n",
       "      <td>4fff1f96e4b042ae8acddca5</td>\n",
       "    </tr>\n",
       "    <tr>\n",
       "      <th>11</th>\n",
       "      <td>I Deal Coffee</td>\n",
       "      <td>Coffee Shop</td>\n",
       "      <td>84 Nassau Street</td>\n",
       "      <td>NaN</td>\n",
       "      <td>43.655058</td>\n",
       "      <td>-79.403254</td>\n",
       "      <td>[{'label': 'display', 'lat': 43.65505778213131...</td>\n",
       "      <td>1298</td>\n",
       "      <td>NaN</td>\n",
       "      <td>CA</td>\n",
       "      <td>NaN</td>\n",
       "      <td>Toronto</td>\n",
       "      <td>ON</td>\n",
       "      <td>Canada</td>\n",
       "      <td>[84 Nassau Street, Toronto ON, Canada]</td>\n",
       "      <td>4adb5a00f964a5204c2621e3</td>\n",
       "    </tr>\n",
       "    <tr>\n",
       "      <th>12</th>\n",
       "      <td>Timothy's World Coffee</td>\n",
       "      <td>Coffee Shop</td>\n",
       "      <td>483 Bay St,Bell Trinity Square</td>\n",
       "      <td>Bell Trinity Square</td>\n",
       "      <td>43.653436</td>\n",
       "      <td>-79.382314</td>\n",
       "      <td>[{'label': 'display', 'lat': 43.653436, 'lng':...</td>\n",
       "      <td>398</td>\n",
       "      <td>M5G 2C9</td>\n",
       "      <td>CA</td>\n",
       "      <td>NaN</td>\n",
       "      <td>Toronto</td>\n",
       "      <td>ON</td>\n",
       "      <td>Canada</td>\n",
       "      <td>[483 Bay St,Bell Trinity Square (Bell Trinity ...</td>\n",
       "      <td>4b0aaa8ef964a520272623e3</td>\n",
       "    </tr>\n",
       "    <tr>\n",
       "      <th>13</th>\n",
       "      <td>Balzac's Coffee</td>\n",
       "      <td>Café</td>\n",
       "      <td>10 Market Street</td>\n",
       "      <td>btwn The Esplanade &amp; Front St. E.</td>\n",
       "      <td>43.648457</td>\n",
       "      <td>-79.371790</td>\n",
       "      <td>[{'label': 'display', 'lat': 43.64845650131932...</td>\n",
       "      <td>1384</td>\n",
       "      <td>M5E 1M6</td>\n",
       "      <td>CA</td>\n",
       "      <td>NaN</td>\n",
       "      <td>Toronto</td>\n",
       "      <td>ON</td>\n",
       "      <td>Canada</td>\n",
       "      <td>[10 Market Street (btwn The Esplanade &amp; Front ...</td>\n",
       "      <td>536fd522498e09c6690800e2</td>\n",
       "    </tr>\n",
       "    <tr>\n",
       "      <th>14</th>\n",
       "      <td>Balzac's Coffee</td>\n",
       "      <td>Coffee Shop</td>\n",
       "      <td>7 Station St</td>\n",
       "      <td>at SkyWalk</td>\n",
       "      <td>43.644373</td>\n",
       "      <td>-79.383065</td>\n",
       "      <td>[{'label': 'display', 'lat': 43.64437258414836...</td>\n",
       "      <td>1118</td>\n",
       "      <td>M5J 1C3</td>\n",
       "      <td>CA</td>\n",
       "      <td>NaN</td>\n",
       "      <td>Toronto</td>\n",
       "      <td>ON</td>\n",
       "      <td>Canada</td>\n",
       "      <td>[7 Station St (at SkyWalk), Toronto ON M5J 1C3...</td>\n",
       "      <td>557f05ca498ec78ac7b29315</td>\n",
       "    </tr>\n",
       "    <tr>\n",
       "      <th>15</th>\n",
       "      <td>T.A.N. Coffee</td>\n",
       "      <td>Coffee Shop</td>\n",
       "      <td>37 Baldwin St</td>\n",
       "      <td>Henry St</td>\n",
       "      <td>43.656029</td>\n",
       "      <td>-79.393534</td>\n",
       "      <td>[{'label': 'display', 'lat': 43.65602860741956...</td>\n",
       "      <td>559</td>\n",
       "      <td>NaN</td>\n",
       "      <td>CA</td>\n",
       "      <td>NaN</td>\n",
       "      <td>Toronto</td>\n",
       "      <td>ON</td>\n",
       "      <td>Canada</td>\n",
       "      <td>[37 Baldwin St (Henry St), Toronto ON, Canada]</td>\n",
       "      <td>4d8a7096d85f3704d05afedb</td>\n",
       "    </tr>\n",
       "    <tr>\n",
       "      <th>16</th>\n",
       "      <td>Timothy's World Coffee</td>\n",
       "      <td>Coffee Shop</td>\n",
       "      <td>401 Bay St.</td>\n",
       "      <td>at Richmond St. W</td>\n",
       "      <td>43.652135</td>\n",
       "      <td>-79.381172</td>\n",
       "      <td>[{'label': 'display', 'lat': 43.65213455850074...</td>\n",
       "      <td>526</td>\n",
       "      <td>M5H 2Y4</td>\n",
       "      <td>CA</td>\n",
       "      <td>NaN</td>\n",
       "      <td>Toronto</td>\n",
       "      <td>ON</td>\n",
       "      <td>Canada</td>\n",
       "      <td>[401 Bay St. (at Richmond St. W), Toronto ON M...</td>\n",
       "      <td>4baa9f6cf964a520817a3ae3</td>\n",
       "    </tr>\n",
       "    <tr>\n",
       "      <th>17</th>\n",
       "      <td>Sam James Coffee Bar (SJCB)</td>\n",
       "      <td>Coffee Shop</td>\n",
       "      <td>15 Toronto Street</td>\n",
       "      <td>NaN</td>\n",
       "      <td>43.650319</td>\n",
       "      <td>-79.376217</td>\n",
       "      <td>[{'label': 'display', 'lat': 43.65031871629752...</td>\n",
       "      <td>973</td>\n",
       "      <td>NaN</td>\n",
       "      <td>CA</td>\n",
       "      <td>NaN</td>\n",
       "      <td>Toronto</td>\n",
       "      <td>ON</td>\n",
       "      <td>Canada</td>\n",
       "      <td>[15 Toronto Street, Toronto ON, Canada]</td>\n",
       "      <td>5553954a498e8e11bc49ecf2</td>\n",
       "    </tr>\n",
       "    <tr>\n",
       "      <th>18</th>\n",
       "      <td>Timothy's World Coffee</td>\n",
       "      <td>Coffee Shop</td>\n",
       "      <td>Yonge</td>\n",
       "      <td>Dundas</td>\n",
       "      <td>43.656700</td>\n",
       "      <td>-79.379941</td>\n",
       "      <td>[{'label': 'display', 'lat': 43.65669995833159...</td>\n",
       "      <td>659</td>\n",
       "      <td>M5B 2G9</td>\n",
       "      <td>CA</td>\n",
       "      <td>NaN</td>\n",
       "      <td>Toronto</td>\n",
       "      <td>ON</td>\n",
       "      <td>Canada</td>\n",
       "      <td>[Yonge (Dundas), Toronto ON M5B 2G9, Canada]</td>\n",
       "      <td>4ec514ec9911232436e364af</td>\n",
       "    </tr>\n",
       "    <tr>\n",
       "      <th>19</th>\n",
       "      <td>Second Cup Coffee Co.</td>\n",
       "      <td>Coffee Shop</td>\n",
       "      <td>200 Front St W</td>\n",
       "      <td>in Simcoe Place</td>\n",
       "      <td>43.645009</td>\n",
       "      <td>-79.385812</td>\n",
       "      <td>[{'label': 'display', 'lat': 43.64500941272016...</td>\n",
       "      <td>1003</td>\n",
       "      <td>M5V 3K2</td>\n",
       "      <td>CA</td>\n",
       "      <td>NaN</td>\n",
       "      <td>Toronto</td>\n",
       "      <td>ON</td>\n",
       "      <td>Canada</td>\n",
       "      <td>[200 Front St W (in Simcoe Place), Toronto ON ...</td>\n",
       "      <td>4b9e7808f964a52091e636e3</td>\n",
       "    </tr>\n",
       "    <tr>\n",
       "      <th>20</th>\n",
       "      <td>Timothy's World Coffee</td>\n",
       "      <td>Coffee Shop</td>\n",
       "      <td>801 Bay St</td>\n",
       "      <td>at College St</td>\n",
       "      <td>43.660714</td>\n",
       "      <td>-79.385491</td>\n",
       "      <td>[{'label': 'display', 'lat': 43.66071353922905...</td>\n",
       "      <td>764</td>\n",
       "      <td>M5S 1Y9</td>\n",
       "      <td>CA</td>\n",
       "      <td>NaN</td>\n",
       "      <td>Toronto</td>\n",
       "      <td>ON</td>\n",
       "      <td>Canada</td>\n",
       "      <td>[801 Bay St (at College St), Toronto ON M5S 1Y...</td>\n",
       "      <td>4b156e98f964a520cbac23e3</td>\n",
       "    </tr>\n",
       "    <tr>\n",
       "      <th>21</th>\n",
       "      <td>Timothy's World Coffee</td>\n",
       "      <td>Coffee Shop</td>\n",
       "      <td>444 Yonge St</td>\n",
       "      <td>in College Park</td>\n",
       "      <td>43.660467</td>\n",
       "      <td>-79.384654</td>\n",
       "      <td>[{'label': 'display', 'lat': 43.66046739684086...</td>\n",
       "      <td>752</td>\n",
       "      <td>M5B 2H4</td>\n",
       "      <td>CA</td>\n",
       "      <td>NaN</td>\n",
       "      <td>Toronto</td>\n",
       "      <td>ON</td>\n",
       "      <td>Canada</td>\n",
       "      <td>[444 Yonge St (in College Park), Toronto ON M5...</td>\n",
       "      <td>4bce5e21cc8cd13a7359c4cf</td>\n",
       "    </tr>\n",
       "    <tr>\n",
       "      <th>22</th>\n",
       "      <td>Rooster Coffee House</td>\n",
       "      <td>Coffee Shop</td>\n",
       "      <td>568 Jarvis St</td>\n",
       "      <td>At Charles St E</td>\n",
       "      <td>43.669654</td>\n",
       "      <td>-79.379871</td>\n",
       "      <td>[{'label': 'display', 'lat': 43.66965378571954...</td>\n",
       "      <td>1843</td>\n",
       "      <td>M4Y 1N6</td>\n",
       "      <td>CA</td>\n",
       "      <td>NaN</td>\n",
       "      <td>Toronto</td>\n",
       "      <td>ON</td>\n",
       "      <td>Canada</td>\n",
       "      <td>[568 Jarvis St (At Charles St E), Toronto ON M...</td>\n",
       "      <td>569e7814498e1a7f3e01bfe4</td>\n",
       "    </tr>\n",
       "    <tr>\n",
       "      <th>23</th>\n",
       "      <td>Timothy's World Coffee</td>\n",
       "      <td>Coffee Shop</td>\n",
       "      <td>30 Adelaide St E</td>\n",
       "      <td>NaN</td>\n",
       "      <td>43.650948</td>\n",
       "      <td>-79.376825</td>\n",
       "      <td>[{'label': 'display', 'lat': 43.650948, 'lng':...</td>\n",
       "      <td>901</td>\n",
       "      <td>M5C 3G8</td>\n",
       "      <td>CA</td>\n",
       "      <td>NaN</td>\n",
       "      <td>Toronto</td>\n",
       "      <td>ON</td>\n",
       "      <td>Canada</td>\n",
       "      <td>[30 Adelaide St E, Toronto ON M5C 3G8, Canada]</td>\n",
       "      <td>4d261e1e3c84b1f78bf70847</td>\n",
       "    </tr>\n",
       "    <tr>\n",
       "      <th>24</th>\n",
       "      <td>Timothy's World Coffee</td>\n",
       "      <td>Coffee Shop</td>\n",
       "      <td>66 Wellington Street West</td>\n",
       "      <td>TD Center Concourse</td>\n",
       "      <td>43.647130</td>\n",
       "      <td>-79.380776</td>\n",
       "      <td>[{'label': 'display', 'lat': 43.64713049355658...</td>\n",
       "      <td>920</td>\n",
       "      <td>M5K 1A1</td>\n",
       "      <td>CA</td>\n",
       "      <td>NaN</td>\n",
       "      <td>Toronto</td>\n",
       "      <td>ON</td>\n",
       "      <td>Canada</td>\n",
       "      <td>[66 Wellington Street West (TD Center Concours...</td>\n",
       "      <td>4ba37627f964a520263f38e3</td>\n",
       "    </tr>\n",
       "    <tr>\n",
       "      <th>25</th>\n",
       "      <td>Jetfuel Coffee</td>\n",
       "      <td>Coffee Shop</td>\n",
       "      <td>519 Parliament St.</td>\n",
       "      <td>btwn Carlton &amp; Winchester</td>\n",
       "      <td>43.665295</td>\n",
       "      <td>-79.368335</td>\n",
       "      <td>[{'label': 'display', 'lat': 43.66529519392083...</td>\n",
       "      <td>1975</td>\n",
       "      <td>M4X 1P3</td>\n",
       "      <td>CA</td>\n",
       "      <td>NaN</td>\n",
       "      <td>Toronto</td>\n",
       "      <td>ON</td>\n",
       "      <td>Canada</td>\n",
       "      <td>[519 Parliament St. (btwn Carlton &amp; Winchester...</td>\n",
       "      <td>4ad79243f964a5204c0c21e3</td>\n",
       "    </tr>\n",
       "    <tr>\n",
       "      <th>26</th>\n",
       "      <td>Dineen Coffee</td>\n",
       "      <td>Café</td>\n",
       "      <td>140 Yonge St</td>\n",
       "      <td>at Temperance St</td>\n",
       "      <td>43.650497</td>\n",
       "      <td>-79.378765</td>\n",
       "      <td>[{'label': 'display', 'lat': 43.650497, 'lng':...</td>\n",
       "      <td>781</td>\n",
       "      <td>M5C 1X6</td>\n",
       "      <td>CA</td>\n",
       "      <td>Financial District</td>\n",
       "      <td>Toronto</td>\n",
       "      <td>ON</td>\n",
       "      <td>Canada</td>\n",
       "      <td>[140 Yonge St (at Temperance St), Toronto ON M...</td>\n",
       "      <td>514627d1e4b0dba1b85e9ba8</td>\n",
       "    </tr>\n",
       "    <tr>\n",
       "      <th>27</th>\n",
       "      <td>The Library Specialty Coffee</td>\n",
       "      <td>Coffee Shop</td>\n",
       "      <td>281 Dundas St West</td>\n",
       "      <td>St Patrick And Dundas St W</td>\n",
       "      <td>43.654413</td>\n",
       "      <td>-79.390902</td>\n",
       "      <td>[{'label': 'display', 'lat': 43.65441282740799...</td>\n",
       "      <td>301</td>\n",
       "      <td>M5T 2W5</td>\n",
       "      <td>CA</td>\n",
       "      <td>NaN</td>\n",
       "      <td>Toronto</td>\n",
       "      <td>ON</td>\n",
       "      <td>Canada</td>\n",
       "      <td>[281 Dundas St West (St Patrick And Dundas St ...</td>\n",
       "      <td>5a6b737b35f98359eed11974</td>\n",
       "    </tr>\n",
       "    <tr>\n",
       "      <th>28</th>\n",
       "      <td>Super Jet International Coffee Shop</td>\n",
       "      <td>Coffee Shop</td>\n",
       "      <td>267 College St.</td>\n",
       "      <td>Spadina Ave</td>\n",
       "      <td>43.657971</td>\n",
       "      <td>-79.399795</td>\n",
       "      <td>[{'label': 'display', 'lat': 43.657971, 'lng':...</td>\n",
       "      <td>1107</td>\n",
       "      <td>M5T 1R5</td>\n",
       "      <td>CA</td>\n",
       "      <td>NaN</td>\n",
       "      <td>Toronto</td>\n",
       "      <td>ON</td>\n",
       "      <td>Canada</td>\n",
       "      <td>[267 College St. (Spadina Ave), Toronto ON M5T...</td>\n",
       "      <td>5ae32b6412c8f0002c2b03e7</td>\n",
       "    </tr>\n",
       "    <tr>\n",
       "      <th>29</th>\n",
       "      <td>Coffee, Oysters, Champagne</td>\n",
       "      <td>Lounge</td>\n",
       "      <td>214 King Street West</td>\n",
       "      <td>NaN</td>\n",
       "      <td>43.647309</td>\n",
       "      <td>-79.386730</td>\n",
       "      <td>[{'label': 'display', 'lat': 43.647309, 'lng':...</td>\n",
       "      <td>741</td>\n",
       "      <td>M5H 3S6</td>\n",
       "      <td>CA</td>\n",
       "      <td>NaN</td>\n",
       "      <td>Toronto</td>\n",
       "      <td>ON</td>\n",
       "      <td>Canada</td>\n",
       "      <td>[214 King Street West, Toronto ON M5H 3S6, Can...</td>\n",
       "      <td>5c01d5553183940025479371</td>\n",
       "    </tr>\n",
       "    <tr>\n",
       "      <th>30</th>\n",
       "      <td>Jimmy's Coffee</td>\n",
       "      <td>Coffee Shop</td>\n",
       "      <td>82 Gerrard Street W</td>\n",
       "      <td>Gerrard &amp; LaPlante</td>\n",
       "      <td>43.658421</td>\n",
       "      <td>-79.385613</td>\n",
       "      <td>[{'label': 'display', 'lat': 43.65842123574496...</td>\n",
       "      <td>512</td>\n",
       "      <td>M5G 1Z4</td>\n",
       "      <td>CA</td>\n",
       "      <td>NaN</td>\n",
       "      <td>Toronto</td>\n",
       "      <td>ON</td>\n",
       "      <td>Canada</td>\n",
       "      <td>[82 Gerrard Street W (Gerrard &amp; LaPlante), Tor...</td>\n",
       "      <td>537d4d6d498ec171ba22e7fe</td>\n",
       "    </tr>\n",
       "    <tr>\n",
       "      <th>31</th>\n",
       "      <td>Coffee Culture Cafe &amp; Eatery</td>\n",
       "      <td>Coffee Shop</td>\n",
       "      <td>409 College St.</td>\n",
       "      <td>at Lippincott St.</td>\n",
       "      <td>43.656705</td>\n",
       "      <td>-79.406535</td>\n",
       "      <td>[{'label': 'display', 'lat': 43.65670534038625...</td>\n",
       "      <td>1586</td>\n",
       "      <td>NaN</td>\n",
       "      <td>CA</td>\n",
       "      <td>NaN</td>\n",
       "      <td>Toronto</td>\n",
       "      <td>ON</td>\n",
       "      <td>Canada</td>\n",
       "      <td>[409 College St. (at Lippincott St.), Toronto ...</td>\n",
       "      <td>4afcbd58f964a520822522e3</td>\n",
       "    </tr>\n",
       "    <tr>\n",
       "      <th>32</th>\n",
       "      <td>Coffee Antidote 9th Floor</td>\n",
       "      <td>Café</td>\n",
       "      <td>NaN</td>\n",
       "      <td>NaN</td>\n",
       "      <td>43.654360</td>\n",
       "      <td>-79.388666</td>\n",
       "      <td>[{'label': 'display', 'lat': 43.65436014476997...</td>\n",
       "      <td>125</td>\n",
       "      <td>NaN</td>\n",
       "      <td>CA</td>\n",
       "      <td>NaN</td>\n",
       "      <td>NaN</td>\n",
       "      <td>NaN</td>\n",
       "      <td>Canada</td>\n",
       "      <td>[Canada]</td>\n",
       "      <td>50046391e4b025b2598516f3</td>\n",
       "    </tr>\n",
       "    <tr>\n",
       "      <th>33</th>\n",
       "      <td>Luba’s Coffee &amp; Tea Boutique</td>\n",
       "      <td>Coffee Shop</td>\n",
       "      <td>NaN</td>\n",
       "      <td>NaN</td>\n",
       "      <td>43.649053</td>\n",
       "      <td>-79.371981</td>\n",
       "      <td>[{'label': 'display', 'lat': 43.6490525948081,...</td>\n",
       "      <td>1342</td>\n",
       "      <td>NaN</td>\n",
       "      <td>CA</td>\n",
       "      <td>NaN</td>\n",
       "      <td>Toronto</td>\n",
       "      <td>ON</td>\n",
       "      <td>Canada</td>\n",
       "      <td>[Toronto ON, Canada]</td>\n",
       "      <td>4b758da6f964a520cb132ee3</td>\n",
       "    </tr>\n",
       "    <tr>\n",
       "      <th>34</th>\n",
       "      <td>Coffee Pocket</td>\n",
       "      <td>Coffee Shop</td>\n",
       "      <td>688a Bloor St W</td>\n",
       "      <td>at Clinton St</td>\n",
       "      <td>43.663949</td>\n",
       "      <td>-79.416960</td>\n",
       "      <td>[{'label': 'display', 'lat': 43.66394931021736...</td>\n",
       "      <td>2641</td>\n",
       "      <td>M6G 1L2</td>\n",
       "      <td>CA</td>\n",
       "      <td>NaN</td>\n",
       "      <td>Toronto</td>\n",
       "      <td>ON</td>\n",
       "      <td>Canada</td>\n",
       "      <td>[688a Bloor St W (at Clinton St), Toronto ON M...</td>\n",
       "      <td>4cf2a5437e0da1cdf0a69897</td>\n",
       "    </tr>\n",
       "    <tr>\n",
       "      <th>35</th>\n",
       "      <td>Coffee Exchange</td>\n",
       "      <td>Coffee Shop</td>\n",
       "      <td>109 McCaul St</td>\n",
       "      <td>Dundas St W (The Grange)</td>\n",
       "      <td>43.653730</td>\n",
       "      <td>-79.390983</td>\n",
       "      <td>[{'label': 'display', 'lat': 43.65373019161559...</td>\n",
       "      <td>305</td>\n",
       "      <td>M5T 3K5</td>\n",
       "      <td>CA</td>\n",
       "      <td>NaN</td>\n",
       "      <td>Toronto</td>\n",
       "      <td>ON</td>\n",
       "      <td>Canada</td>\n",
       "      <td>[109 McCaul St (Dundas St W (The Grange)), Tor...</td>\n",
       "      <td>4b7bedfbf964a5204e742fe3</td>\n",
       "    </tr>\n",
       "    <tr>\n",
       "      <th>36</th>\n",
       "      <td>Hailed Coffee</td>\n",
       "      <td>Coffee Shop</td>\n",
       "      <td>44 Gerrard St W</td>\n",
       "      <td>Yonge St</td>\n",
       "      <td>43.658833</td>\n",
       "      <td>-79.383684</td>\n",
       "      <td>[{'label': 'display', 'lat': 43.65883296982352...</td>\n",
       "      <td>611</td>\n",
       "      <td>M5G</td>\n",
       "      <td>CA</td>\n",
       "      <td>College Park</td>\n",
       "      <td>Toronto</td>\n",
       "      <td>ON</td>\n",
       "      <td>Canada</td>\n",
       "      <td>[44 Gerrard St W (Yonge St), Toronto ON M5G, C...</td>\n",
       "      <td>5a81ae339deb7d369fa7f146</td>\n",
       "    </tr>\n",
       "    <tr>\n",
       "      <th>37</th>\n",
       "      <td>Coffee Public</td>\n",
       "      <td>Coffee Shop</td>\n",
       "      <td>800 Bay St</td>\n",
       "      <td>at College St</td>\n",
       "      <td>43.660763</td>\n",
       "      <td>-79.386184</td>\n",
       "      <td>[{'label': 'display', 'lat': 43.66076299149323...</td>\n",
       "      <td>761</td>\n",
       "      <td>M5S 3A9</td>\n",
       "      <td>CA</td>\n",
       "      <td>NaN</td>\n",
       "      <td>Toronto</td>\n",
       "      <td>ON</td>\n",
       "      <td>Canada</td>\n",
       "      <td>[800 Bay St (at College St), Toronto ON M5S 3A...</td>\n",
       "      <td>568bcf61498e3aaff5e351f8</td>\n",
       "    </tr>\n",
       "    <tr>\n",
       "      <th>38</th>\n",
       "      <td>Balzac's Coffee</td>\n",
       "      <td>Coffee Shop</td>\n",
       "      <td>43 Hanna Avenue, Unit 123</td>\n",
       "      <td>at Liberty St.</td>\n",
       "      <td>43.638611</td>\n",
       "      <td>-79.419421</td>\n",
       "      <td>[{'label': 'display', 'lat': 43.63861077086181...</td>\n",
       "      <td>3107</td>\n",
       "      <td>M6K 1X1</td>\n",
       "      <td>CA</td>\n",
       "      <td>NaN</td>\n",
       "      <td>Toronto</td>\n",
       "      <td>ON</td>\n",
       "      <td>Canada</td>\n",
       "      <td>[43 Hanna Avenue, Unit 123 (at Liberty St.), T...</td>\n",
       "      <td>4ad34084f964a52083e320e3</td>\n",
       "    </tr>\n",
       "    <tr>\n",
       "      <th>39</th>\n",
       "      <td>Timothy's World Coffee</td>\n",
       "      <td>Coffee Shop</td>\n",
       "      <td>225 Front Street E</td>\n",
       "      <td>Metro Toronto Convention Centre</td>\n",
       "      <td>43.640346</td>\n",
       "      <td>-79.389881</td>\n",
       "      <td>[{'label': 'display', 'lat': 43.640346, 'lng':...</td>\n",
       "      <td>1531</td>\n",
       "      <td>NaN</td>\n",
       "      <td>CA</td>\n",
       "      <td>NaN</td>\n",
       "      <td>Toronto</td>\n",
       "      <td>ON</td>\n",
       "      <td>Canada</td>\n",
       "      <td>[225 Front Street E (Metro Toronto Convention ...</td>\n",
       "      <td>4b05a67cf964a52034e022e3</td>\n",
       "    </tr>\n",
       "    <tr>\n",
       "      <th>40</th>\n",
       "      <td>Timothy's World Coffee</td>\n",
       "      <td>Coffee Shop</td>\n",
       "      <td>NaN</td>\n",
       "      <td>NaN</td>\n",
       "      <td>43.651230</td>\n",
       "      <td>-79.368457</td>\n",
       "      <td>[{'label': 'display', 'lat': 43.65123, 'lng': ...</td>\n",
       "      <td>1540</td>\n",
       "      <td>NaN</td>\n",
       "      <td>CA</td>\n",
       "      <td>NaN</td>\n",
       "      <td>Toronto</td>\n",
       "      <td>ON</td>\n",
       "      <td>Canada</td>\n",
       "      <td>[Toronto ON, Canada]</td>\n",
       "      <td>4c3de34c7d002d7fe460b018</td>\n",
       "    </tr>\n",
       "    <tr>\n",
       "      <th>41</th>\n",
       "      <td>Pilot Coffee Roasters</td>\n",
       "      <td>Coffee Shop</td>\n",
       "      <td>100 King St W</td>\n",
       "      <td>Bay St</td>\n",
       "      <td>43.648835</td>\n",
       "      <td>-79.380936</td>\n",
       "      <td>[{'label': 'display', 'lat': 43.64883539124589...</td>\n",
       "      <td>762</td>\n",
       "      <td>M5X</td>\n",
       "      <td>CA</td>\n",
       "      <td>NaN</td>\n",
       "      <td>Toronto</td>\n",
       "      <td>ON</td>\n",
       "      <td>Canada</td>\n",
       "      <td>[100 King St W (Bay St), Toronto ON M5X, Canada]</td>\n",
       "      <td>59cd51c71b0ea516e9e7b3aa</td>\n",
       "    </tr>\n",
       "    <tr>\n",
       "      <th>42</th>\n",
       "      <td>Neo Coffee Bar</td>\n",
       "      <td>Coffee Shop</td>\n",
       "      <td>770 Bay Street Unit 3</td>\n",
       "      <td>NaN</td>\n",
       "      <td>43.660140</td>\n",
       "      <td>-79.385870</td>\n",
       "      <td>[{'label': 'display', 'lat': 43.66014, 'lng': ...</td>\n",
       "      <td>695</td>\n",
       "      <td>M5G 0A6</td>\n",
       "      <td>CA</td>\n",
       "      <td>NaN</td>\n",
       "      <td>Toronto</td>\n",
       "      <td>ON</td>\n",
       "      <td>Canada</td>\n",
       "      <td>[770 Bay Street Unit 3, Toronto ON M5G 0A6, Ca...</td>\n",
       "      <td>5db70a0c306d6b000861ac9f</td>\n",
       "    </tr>\n",
       "    <tr>\n",
       "      <th>43</th>\n",
       "      <td>Jimmy's Coffee</td>\n",
       "      <td>Café</td>\n",
       "      <td>166 McCaul Street</td>\n",
       "      <td>NaN</td>\n",
       "      <td>43.655827</td>\n",
       "      <td>-79.392042</td>\n",
       "      <td>[{'label': 'display', 'lat': 43.65582710322224...</td>\n",
       "      <td>441</td>\n",
       "      <td>M5T 1J7</td>\n",
       "      <td>CA</td>\n",
       "      <td>NaN</td>\n",
       "      <td>Toronto</td>\n",
       "      <td>ON</td>\n",
       "      <td>Canada</td>\n",
       "      <td>[166 McCaul Street, Toronto ON M5T 1J7, Canada]</td>\n",
       "      <td>57fe5f64498e08c9fc55cb87</td>\n",
       "    </tr>\n",
       "    <tr>\n",
       "      <th>44</th>\n",
       "      <td>Seattle's Best Coffee</td>\n",
       "      <td>Coffee Shop</td>\n",
       "      <td>108 Chestnut St</td>\n",
       "      <td>Inside Metropolitan Hotel</td>\n",
       "      <td>43.654545</td>\n",
       "      <td>-79.385902</td>\n",
       "      <td>[{'label': 'display', 'lat': 43.65454483032226...</td>\n",
       "      <td>123</td>\n",
       "      <td>M5G 1R3</td>\n",
       "      <td>CA</td>\n",
       "      <td>NaN</td>\n",
       "      <td>Toronto</td>\n",
       "      <td>ON</td>\n",
       "      <td>Canada</td>\n",
       "      <td>[108 Chestnut St (Inside Metropolitan Hotel), ...</td>\n",
       "      <td>5287b58f11d214168b94638b</td>\n",
       "    </tr>\n",
       "    <tr>\n",
       "      <th>45</th>\n",
       "      <td>M Square Coffee Co</td>\n",
       "      <td>Coffee Shop</td>\n",
       "      <td>C24 - 123 Queen St W</td>\n",
       "      <td>NaN</td>\n",
       "      <td>43.651218</td>\n",
       "      <td>-79.383555</td>\n",
       "      <td>[{'label': 'display', 'lat': 43.65121797253777...</td>\n",
       "      <td>424</td>\n",
       "      <td>NaN</td>\n",
       "      <td>CA</td>\n",
       "      <td>NaN</td>\n",
       "      <td>Toronto</td>\n",
       "      <td>ON</td>\n",
       "      <td>Canada</td>\n",
       "      <td>[C24 - 123 Queen St W, Toronto ON, Canada]</td>\n",
       "      <td>54132b3b498ee9ca9332e189</td>\n",
       "    </tr>\n",
       "    <tr>\n",
       "      <th>46</th>\n",
       "      <td>Fresh Start Coffee Company</td>\n",
       "      <td>Café</td>\n",
       "      <td>595 Bay St</td>\n",
       "      <td>NaN</td>\n",
       "      <td>43.656374</td>\n",
       "      <td>-79.383439</td>\n",
       "      <td>[{'label': 'display', 'lat': 43.656374, 'lng':...</td>\n",
       "      <td>405</td>\n",
       "      <td>M5G 2B4</td>\n",
       "      <td>CA</td>\n",
       "      <td>NaN</td>\n",
       "      <td>Toronto</td>\n",
       "      <td>ON</td>\n",
       "      <td>Canada</td>\n",
       "      <td>[595 Bay St, Toronto ON M5G 2B4, Canada]</td>\n",
       "      <td>5ba405b62db4a9002c798229</td>\n",
       "    </tr>\n",
       "    <tr>\n",
       "      <th>47</th>\n",
       "      <td>Sam James Coffee Bar</td>\n",
       "      <td>Café</td>\n",
       "      <td>157 Bloor St W</td>\n",
       "      <td>Queen's Park</td>\n",
       "      <td>43.668614</td>\n",
       "      <td>-79.393873</td>\n",
       "      <td>[{'label': 'display', 'lat': 43.66861433609234...</td>\n",
       "      <td>1717</td>\n",
       "      <td>NaN</td>\n",
       "      <td>CA</td>\n",
       "      <td>NaN</td>\n",
       "      <td>Toronto</td>\n",
       "      <td>ON</td>\n",
       "      <td>Canada</td>\n",
       "      <td>[157 Bloor St W (Queen's Park), Toronto ON, Ca...</td>\n",
       "      <td>57434748498eee3f1aeed03a</td>\n",
       "    </tr>\n",
       "    <tr>\n",
       "      <th>48</th>\n",
       "      <td>Carbonic Coffee</td>\n",
       "      <td>Coffee Shop</td>\n",
       "      <td>NaN</td>\n",
       "      <td>NaN</td>\n",
       "      <td>43.655898</td>\n",
       "      <td>-79.393491</td>\n",
       "      <td>[{'label': 'display', 'lat': 43.655898, 'lng':...</td>\n",
       "      <td>550</td>\n",
       "      <td>M5T 1L1</td>\n",
       "      <td>CA</td>\n",
       "      <td>NaN</td>\n",
       "      <td>Toronto</td>\n",
       "      <td>ON</td>\n",
       "      <td>Canada</td>\n",
       "      <td>[Toronto ON M5T 1L1, Canada]</td>\n",
       "      <td>5d07af7f8c9f410023d6f0f8</td>\n",
       "    </tr>\n",
       "    <tr>\n",
       "      <th>49</th>\n",
       "      <td>Urbana Coffee Co.</td>\n",
       "      <td>Café</td>\n",
       "      <td>Toronto</td>\n",
       "      <td>NaN</td>\n",
       "      <td>43.653225</td>\n",
       "      <td>-79.388749</td>\n",
       "      <td>[{'label': 'display', 'lat': 43.65322456230742...</td>\n",
       "      <td>148</td>\n",
       "      <td>NaN</td>\n",
       "      <td>CA</td>\n",
       "      <td>NaN</td>\n",
       "      <td>Toronto</td>\n",
       "      <td>ON</td>\n",
       "      <td>Canada</td>\n",
       "      <td>[Toronto, Toronto ON, Canada]</td>\n",
       "      <td>50b77ec7e4b08ecf5a78a68f</td>\n",
       "    </tr>\n",
       "  </tbody>\n",
       "</table>\n",
       "</div>"
      ],
      "text/plain": [
       "                                   name   categories  \\\n",
       "0                       HotBlack Coffee  Coffee Shop   \n",
       "1                Timothy's World Coffee  Coffee Shop   \n",
       "2                Timothy's World Coffee  Coffee Shop   \n",
       "3                 Pilot Coffee Roasters  Coffee Shop   \n",
       "4                       Balzac's Coffee  Coffee Shop   \n",
       "5                Timothy's World Coffee  Coffee Shop   \n",
       "6           Sam James Coffee Bar (SJCB)         Café   \n",
       "7                        Jimmy's Coffee         Café   \n",
       "8                     Fahrenheit Coffee  Coffee Shop   \n",
       "9                         Coffee office         None   \n",
       "10                    Fahrenheit Coffee  Coffee Shop   \n",
       "11                        I Deal Coffee  Coffee Shop   \n",
       "12               Timothy's World Coffee  Coffee Shop   \n",
       "13                      Balzac's Coffee         Café   \n",
       "14                      Balzac's Coffee  Coffee Shop   \n",
       "15                        T.A.N. Coffee  Coffee Shop   \n",
       "16               Timothy's World Coffee  Coffee Shop   \n",
       "17          Sam James Coffee Bar (SJCB)  Coffee Shop   \n",
       "18               Timothy's World Coffee  Coffee Shop   \n",
       "19                Second Cup Coffee Co.  Coffee Shop   \n",
       "20               Timothy's World Coffee  Coffee Shop   \n",
       "21               Timothy's World Coffee  Coffee Shop   \n",
       "22                 Rooster Coffee House  Coffee Shop   \n",
       "23               Timothy's World Coffee  Coffee Shop   \n",
       "24               Timothy's World Coffee  Coffee Shop   \n",
       "25                       Jetfuel Coffee  Coffee Shop   \n",
       "26                        Dineen Coffee         Café   \n",
       "27         The Library Specialty Coffee  Coffee Shop   \n",
       "28  Super Jet International Coffee Shop  Coffee Shop   \n",
       "29           Coffee, Oysters, Champagne       Lounge   \n",
       "30                       Jimmy's Coffee  Coffee Shop   \n",
       "31         Coffee Culture Cafe & Eatery  Coffee Shop   \n",
       "32            Coffee Antidote 9th Floor         Café   \n",
       "33         Luba’s Coffee & Tea Boutique  Coffee Shop   \n",
       "34                        Coffee Pocket  Coffee Shop   \n",
       "35                      Coffee Exchange  Coffee Shop   \n",
       "36                        Hailed Coffee  Coffee Shop   \n",
       "37                        Coffee Public  Coffee Shop   \n",
       "38                      Balzac's Coffee  Coffee Shop   \n",
       "39               Timothy's World Coffee  Coffee Shop   \n",
       "40               Timothy's World Coffee  Coffee Shop   \n",
       "41                Pilot Coffee Roasters  Coffee Shop   \n",
       "42                       Neo Coffee Bar  Coffee Shop   \n",
       "43                       Jimmy's Coffee         Café   \n",
       "44                Seattle's Best Coffee  Coffee Shop   \n",
       "45                   M Square Coffee Co  Coffee Shop   \n",
       "46           Fresh Start Coffee Company         Café   \n",
       "47                 Sam James Coffee Bar         Café   \n",
       "48                      Carbonic Coffee  Coffee Shop   \n",
       "49                    Urbana Coffee Co.         Café   \n",
       "\n",
       "                           address                        crossStreet  \\\n",
       "0            245 Queen Street West                   at St Patrick St   \n",
       "1            427 University Avenue                                NaN   \n",
       "2               425 University Ave                             Dundas   \n",
       "3                    65 Front St W              btwn Bay St & York St   \n",
       "4                  122 Bond Street                       at Gould St.   \n",
       "5         595 Bay St,Atrium On Bay                   at Atrium on Bay   \n",
       "6                   150 King St. W                        in the PATH   \n",
       "7                   191 Baldwin St                  Kensington Market   \n",
       "8                529 Richmond St W                                NaN   \n",
       "9           350 Bay St - 7th Floor                                NaN   \n",
       "10                  120 Lombard St                       at Jarvis St   \n",
       "11                84 Nassau Street                                NaN   \n",
       "12  483 Bay St,Bell Trinity Square                Bell Trinity Square   \n",
       "13                10 Market Street  btwn The Esplanade & Front St. E.   \n",
       "14                    7 Station St                         at SkyWalk   \n",
       "15                   37 Baldwin St                           Henry St   \n",
       "16                     401 Bay St.                  at Richmond St. W   \n",
       "17               15 Toronto Street                                NaN   \n",
       "18                           Yonge                             Dundas   \n",
       "19                  200 Front St W                    in Simcoe Place   \n",
       "20                      801 Bay St                      at College St   \n",
       "21                    444 Yonge St                    in College Park   \n",
       "22                   568 Jarvis St                    At Charles St E   \n",
       "23                30 Adelaide St E                                NaN   \n",
       "24       66 Wellington Street West                TD Center Concourse   \n",
       "25              519 Parliament St.          btwn Carlton & Winchester   \n",
       "26                    140 Yonge St                   at Temperance St   \n",
       "27              281 Dundas St West         St Patrick And Dundas St W   \n",
       "28                 267 College St.                        Spadina Ave   \n",
       "29            214 King Street West                                NaN   \n",
       "30             82 Gerrard Street W                 Gerrard & LaPlante   \n",
       "31                 409 College St.                  at Lippincott St.   \n",
       "32                             NaN                                NaN   \n",
       "33                             NaN                                NaN   \n",
       "34                 688a Bloor St W                      at Clinton St   \n",
       "35                   109 McCaul St           Dundas St W (The Grange)   \n",
       "36                 44 Gerrard St W                           Yonge St   \n",
       "37                      800 Bay St                      at College St   \n",
       "38       43 Hanna Avenue, Unit 123                     at Liberty St.   \n",
       "39              225 Front Street E    Metro Toronto Convention Centre   \n",
       "40                             NaN                                NaN   \n",
       "41                   100 King St W                             Bay St   \n",
       "42           770 Bay Street Unit 3                                NaN   \n",
       "43               166 McCaul Street                                NaN   \n",
       "44                 108 Chestnut St          Inside Metropolitan Hotel   \n",
       "45            C24 - 123 Queen St W                                NaN   \n",
       "46                      595 Bay St                                NaN   \n",
       "47                  157 Bloor St W                       Queen's Park   \n",
       "48                             NaN                                NaN   \n",
       "49                         Toronto                                NaN   \n",
       "\n",
       "          lat        lng                                     labeledLatLngs  \\\n",
       "0   43.650364 -79.388669  [{'label': 'display', 'lat': 43.65036434800487...   \n",
       "1   43.654053 -79.388090  [{'label': 'display', 'lat': 43.65405317976302...   \n",
       "2   43.654270 -79.387448  [{'label': 'display', 'lat': 43.65427, 'lng': ...   \n",
       "3   43.645018 -79.380415  [{'label': 'display', 'lat': 43.64501814464698...   \n",
       "4   43.657854 -79.379200  [{'label': 'display', 'lat': 43.65785440672277...   \n",
       "5   43.656219 -79.383290  [{'label': 'display', 'lat': 43.656219, 'lng':...   \n",
       "6   43.647881 -79.384332  [{'label': 'display', 'lat': 43.64788137014028...   \n",
       "7   43.654493 -79.401311  [{'label': 'display', 'lat': 43.65449315540114...   \n",
       "8   43.647037 -79.400876  [{'label': 'display', 'lat': 43.64703669923361...   \n",
       "9   43.649498 -79.386479  [{'label': 'display', 'lat': 43.649498, 'lng':...   \n",
       "10  43.652384 -79.372719  [{'label': 'display', 'lat': 43.65238358726612...   \n",
       "11  43.655058 -79.403254  [{'label': 'display', 'lat': 43.65505778213131...   \n",
       "12  43.653436 -79.382314  [{'label': 'display', 'lat': 43.653436, 'lng':...   \n",
       "13  43.648457 -79.371790  [{'label': 'display', 'lat': 43.64845650131932...   \n",
       "14  43.644373 -79.383065  [{'label': 'display', 'lat': 43.64437258414836...   \n",
       "15  43.656029 -79.393534  [{'label': 'display', 'lat': 43.65602860741956...   \n",
       "16  43.652135 -79.381172  [{'label': 'display', 'lat': 43.65213455850074...   \n",
       "17  43.650319 -79.376217  [{'label': 'display', 'lat': 43.65031871629752...   \n",
       "18  43.656700 -79.379941  [{'label': 'display', 'lat': 43.65669995833159...   \n",
       "19  43.645009 -79.385812  [{'label': 'display', 'lat': 43.64500941272016...   \n",
       "20  43.660714 -79.385491  [{'label': 'display', 'lat': 43.66071353922905...   \n",
       "21  43.660467 -79.384654  [{'label': 'display', 'lat': 43.66046739684086...   \n",
       "22  43.669654 -79.379871  [{'label': 'display', 'lat': 43.66965378571954...   \n",
       "23  43.650948 -79.376825  [{'label': 'display', 'lat': 43.650948, 'lng':...   \n",
       "24  43.647130 -79.380776  [{'label': 'display', 'lat': 43.64713049355658...   \n",
       "25  43.665295 -79.368335  [{'label': 'display', 'lat': 43.66529519392083...   \n",
       "26  43.650497 -79.378765  [{'label': 'display', 'lat': 43.650497, 'lng':...   \n",
       "27  43.654413 -79.390902  [{'label': 'display', 'lat': 43.65441282740799...   \n",
       "28  43.657971 -79.399795  [{'label': 'display', 'lat': 43.657971, 'lng':...   \n",
       "29  43.647309 -79.386730  [{'label': 'display', 'lat': 43.647309, 'lng':...   \n",
       "30  43.658421 -79.385613  [{'label': 'display', 'lat': 43.65842123574496...   \n",
       "31  43.656705 -79.406535  [{'label': 'display', 'lat': 43.65670534038625...   \n",
       "32  43.654360 -79.388666  [{'label': 'display', 'lat': 43.65436014476997...   \n",
       "33  43.649053 -79.371981  [{'label': 'display', 'lat': 43.6490525948081,...   \n",
       "34  43.663949 -79.416960  [{'label': 'display', 'lat': 43.66394931021736...   \n",
       "35  43.653730 -79.390983  [{'label': 'display', 'lat': 43.65373019161559...   \n",
       "36  43.658833 -79.383684  [{'label': 'display', 'lat': 43.65883296982352...   \n",
       "37  43.660763 -79.386184  [{'label': 'display', 'lat': 43.66076299149323...   \n",
       "38  43.638611 -79.419421  [{'label': 'display', 'lat': 43.63861077086181...   \n",
       "39  43.640346 -79.389881  [{'label': 'display', 'lat': 43.640346, 'lng':...   \n",
       "40  43.651230 -79.368457  [{'label': 'display', 'lat': 43.65123, 'lng': ...   \n",
       "41  43.648835 -79.380936  [{'label': 'display', 'lat': 43.64883539124589...   \n",
       "42  43.660140 -79.385870  [{'label': 'display', 'lat': 43.66014, 'lng': ...   \n",
       "43  43.655827 -79.392042  [{'label': 'display', 'lat': 43.65582710322224...   \n",
       "44  43.654545 -79.385902  [{'label': 'display', 'lat': 43.65454483032226...   \n",
       "45  43.651218 -79.383555  [{'label': 'display', 'lat': 43.65121797253777...   \n",
       "46  43.656374 -79.383439  [{'label': 'display', 'lat': 43.656374, 'lng':...   \n",
       "47  43.668614 -79.393873  [{'label': 'display', 'lat': 43.66861433609234...   \n",
       "48  43.655898 -79.393491  [{'label': 'display', 'lat': 43.655898, 'lng':...   \n",
       "49  43.653225 -79.388749  [{'label': 'display', 'lat': 43.65322456230742...   \n",
       "\n",
       "    distance postalCode  cc            neighborhood     city state country  \\\n",
       "0        417    M5V 1Z4  CA  Entertainment District  Toronto    ON  Canada   \n",
       "1         71        NaN  CA                     NaN  Toronto    ON  Canada   \n",
       "2         39    M5G 1T6  CA                     NaN  Toronto    ON  Canada   \n",
       "3       1136    M5J 1E6  CA                     NaN  Toronto    ON  Canada   \n",
       "4        776    M5B 1X8  CA                     NaN  Toronto    ON  Canada   \n",
       "5        403    M5G 2C2  CA                     NaN  Toronto    ON  Canada   \n",
       "6        715    M5H 4B6  CA                     NaN  Toronto    ON  Canada   \n",
       "7       1137        NaN  CA       Kensington Market  Toronto    ON  Canada   \n",
       "8       1344        NaN  CA        Fashion District  Toronto    ON  Canada   \n",
       "9        500        NaN  CA                     NaN  Toronto    ON  Canada   \n",
       "10      1180    M5C 3H5  CA                     NaN  Toronto    ON  Canada   \n",
       "11      1298        NaN  CA                     NaN  Toronto    ON  Canada   \n",
       "12       398    M5G 2C9  CA                     NaN  Toronto    ON  Canada   \n",
       "13      1384    M5E 1M6  CA                     NaN  Toronto    ON  Canada   \n",
       "14      1118    M5J 1C3  CA                     NaN  Toronto    ON  Canada   \n",
       "15       559        NaN  CA                     NaN  Toronto    ON  Canada   \n",
       "16       526    M5H 2Y4  CA                     NaN  Toronto    ON  Canada   \n",
       "17       973        NaN  CA                     NaN  Toronto    ON  Canada   \n",
       "18       659    M5B 2G9  CA                     NaN  Toronto    ON  Canada   \n",
       "19      1003    M5V 3K2  CA                     NaN  Toronto    ON  Canada   \n",
       "20       764    M5S 1Y9  CA                     NaN  Toronto    ON  Canada   \n",
       "21       752    M5B 2H4  CA                     NaN  Toronto    ON  Canada   \n",
       "22      1843    M4Y 1N6  CA                     NaN  Toronto    ON  Canada   \n",
       "23       901    M5C 3G8  CA                     NaN  Toronto    ON  Canada   \n",
       "24       920    M5K 1A1  CA                     NaN  Toronto    ON  Canada   \n",
       "25      1975    M4X 1P3  CA                     NaN  Toronto    ON  Canada   \n",
       "26       781    M5C 1X6  CA      Financial District  Toronto    ON  Canada   \n",
       "27       301    M5T 2W5  CA                     NaN  Toronto    ON  Canada   \n",
       "28      1107    M5T 1R5  CA                     NaN  Toronto    ON  Canada   \n",
       "29       741    M5H 3S6  CA                     NaN  Toronto    ON  Canada   \n",
       "30       512    M5G 1Z4  CA                     NaN  Toronto    ON  Canada   \n",
       "31      1586        NaN  CA                     NaN  Toronto    ON  Canada   \n",
       "32       125        NaN  CA                     NaN      NaN   NaN  Canada   \n",
       "33      1342        NaN  CA                     NaN  Toronto    ON  Canada   \n",
       "34      2641    M6G 1L2  CA                     NaN  Toronto    ON  Canada   \n",
       "35       305    M5T 3K5  CA                     NaN  Toronto    ON  Canada   \n",
       "36       611        M5G  CA            College Park  Toronto    ON  Canada   \n",
       "37       761    M5S 3A9  CA                     NaN  Toronto    ON  Canada   \n",
       "38      3107    M6K 1X1  CA                     NaN  Toronto    ON  Canada   \n",
       "39      1531        NaN  CA                     NaN  Toronto    ON  Canada   \n",
       "40      1540        NaN  CA                     NaN  Toronto    ON  Canada   \n",
       "41       762        M5X  CA                     NaN  Toronto    ON  Canada   \n",
       "42       695    M5G 0A6  CA                     NaN  Toronto    ON  Canada   \n",
       "43       441    M5T 1J7  CA                     NaN  Toronto    ON  Canada   \n",
       "44       123    M5G 1R3  CA                     NaN  Toronto    ON  Canada   \n",
       "45       424        NaN  CA                     NaN  Toronto    ON  Canada   \n",
       "46       405    M5G 2B4  CA                     NaN  Toronto    ON  Canada   \n",
       "47      1717        NaN  CA                     NaN  Toronto    ON  Canada   \n",
       "48       550    M5T 1L1  CA                     NaN  Toronto    ON  Canada   \n",
       "49       148        NaN  CA                     NaN  Toronto    ON  Canada   \n",
       "\n",
       "                                     formattedAddress  \\\n",
       "0   [245 Queen Street West (at St Patrick St), Tor...   \n",
       "1         [427 University Avenue, Toronto ON, Canada]   \n",
       "2   [425 University Ave (Dundas), Toronto ON M5G 1...   \n",
       "3   [65 Front St W (btwn Bay St & York St), Toront...   \n",
       "4   [122 Bond Street (at Gould St.), Toronto ON M5...   \n",
       "5   [595 Bay St,Atrium On Bay (at Atrium on Bay), ...   \n",
       "6   [150 King St. W (in the PATH), Toronto ON M5H ...   \n",
       "7   [191 Baldwin St (Kensington Market), Toronto O...   \n",
       "8             [529 Richmond St W, Toronto ON, Canada]   \n",
       "9        [350 Bay St - 7th Floor, Toronto ON, Canada]   \n",
       "10  [120 Lombard St (at Jarvis St), Toronto ON M5C...   \n",
       "11             [84 Nassau Street, Toronto ON, Canada]   \n",
       "12  [483 Bay St,Bell Trinity Square (Bell Trinity ...   \n",
       "13  [10 Market Street (btwn The Esplanade & Front ...   \n",
       "14  [7 Station St (at SkyWalk), Toronto ON M5J 1C3...   \n",
       "15     [37 Baldwin St (Henry St), Toronto ON, Canada]   \n",
       "16  [401 Bay St. (at Richmond St. W), Toronto ON M...   \n",
       "17            [15 Toronto Street, Toronto ON, Canada]   \n",
       "18       [Yonge (Dundas), Toronto ON M5B 2G9, Canada]   \n",
       "19  [200 Front St W (in Simcoe Place), Toronto ON ...   \n",
       "20  [801 Bay St (at College St), Toronto ON M5S 1Y...   \n",
       "21  [444 Yonge St (in College Park), Toronto ON M5...   \n",
       "22  [568 Jarvis St (At Charles St E), Toronto ON M...   \n",
       "23     [30 Adelaide St E, Toronto ON M5C 3G8, Canada]   \n",
       "24  [66 Wellington Street West (TD Center Concours...   \n",
       "25  [519 Parliament St. (btwn Carlton & Winchester...   \n",
       "26  [140 Yonge St (at Temperance St), Toronto ON M...   \n",
       "27  [281 Dundas St West (St Patrick And Dundas St ...   \n",
       "28  [267 College St. (Spadina Ave), Toronto ON M5T...   \n",
       "29  [214 King Street West, Toronto ON M5H 3S6, Can...   \n",
       "30  [82 Gerrard Street W (Gerrard & LaPlante), Tor...   \n",
       "31  [409 College St. (at Lippincott St.), Toronto ...   \n",
       "32                                           [Canada]   \n",
       "33                               [Toronto ON, Canada]   \n",
       "34  [688a Bloor St W (at Clinton St), Toronto ON M...   \n",
       "35  [109 McCaul St (Dundas St W (The Grange)), Tor...   \n",
       "36  [44 Gerrard St W (Yonge St), Toronto ON M5G, C...   \n",
       "37  [800 Bay St (at College St), Toronto ON M5S 3A...   \n",
       "38  [43 Hanna Avenue, Unit 123 (at Liberty St.), T...   \n",
       "39  [225 Front Street E (Metro Toronto Convention ...   \n",
       "40                               [Toronto ON, Canada]   \n",
       "41   [100 King St W (Bay St), Toronto ON M5X, Canada]   \n",
       "42  [770 Bay Street Unit 3, Toronto ON M5G 0A6, Ca...   \n",
       "43    [166 McCaul Street, Toronto ON M5T 1J7, Canada]   \n",
       "44  [108 Chestnut St (Inside Metropolitan Hotel), ...   \n",
       "45         [C24 - 123 Queen St W, Toronto ON, Canada]   \n",
       "46           [595 Bay St, Toronto ON M5G 2B4, Canada]   \n",
       "47  [157 Bloor St W (Queen's Park), Toronto ON, Ca...   \n",
       "48                       [Toronto ON M5T 1L1, Canada]   \n",
       "49                      [Toronto, Toronto ON, Canada]   \n",
       "\n",
       "                          id  \n",
       "0   59f784dd28122f14f9d5d63d  \n",
       "1   4b44fc77f964a520cc0026e3  \n",
       "2   53e8acc4498ee294fb100183  \n",
       "3   563d2f2dcd10bcf27ae37c3b  \n",
       "4   4fb13c20e4b011e6f93513c0  \n",
       "5   4c19447c4ff90f4765ac0f49  \n",
       "6   4fccaa8fe4b05a98df3d9417  \n",
       "7   51438b33e4b0a40e33fe5e77  \n",
       "8   584593c2ebf0284fe7b103cb  \n",
       "9   4baa31def964a52037523ae3  \n",
       "10  4fff1f96e4b042ae8acddca5  \n",
       "11  4adb5a00f964a5204c2621e3  \n",
       "12  4b0aaa8ef964a520272623e3  \n",
       "13  536fd522498e09c6690800e2  \n",
       "14  557f05ca498ec78ac7b29315  \n",
       "15  4d8a7096d85f3704d05afedb  \n",
       "16  4baa9f6cf964a520817a3ae3  \n",
       "17  5553954a498e8e11bc49ecf2  \n",
       "18  4ec514ec9911232436e364af  \n",
       "19  4b9e7808f964a52091e636e3  \n",
       "20  4b156e98f964a520cbac23e3  \n",
       "21  4bce5e21cc8cd13a7359c4cf  \n",
       "22  569e7814498e1a7f3e01bfe4  \n",
       "23  4d261e1e3c84b1f78bf70847  \n",
       "24  4ba37627f964a520263f38e3  \n",
       "25  4ad79243f964a5204c0c21e3  \n",
       "26  514627d1e4b0dba1b85e9ba8  \n",
       "27  5a6b737b35f98359eed11974  \n",
       "28  5ae32b6412c8f0002c2b03e7  \n",
       "29  5c01d5553183940025479371  \n",
       "30  537d4d6d498ec171ba22e7fe  \n",
       "31  4afcbd58f964a520822522e3  \n",
       "32  50046391e4b025b2598516f3  \n",
       "33  4b758da6f964a520cb132ee3  \n",
       "34  4cf2a5437e0da1cdf0a69897  \n",
       "35  4b7bedfbf964a5204e742fe3  \n",
       "36  5a81ae339deb7d369fa7f146  \n",
       "37  568bcf61498e3aaff5e351f8  \n",
       "38  4ad34084f964a52083e320e3  \n",
       "39  4b05a67cf964a52034e022e3  \n",
       "40  4c3de34c7d002d7fe460b018  \n",
       "41  59cd51c71b0ea516e9e7b3aa  \n",
       "42  5db70a0c306d6b000861ac9f  \n",
       "43  57fe5f64498e08c9fc55cb87  \n",
       "44  5287b58f11d214168b94638b  \n",
       "45  54132b3b498ee9ca9332e189  \n",
       "46  5ba405b62db4a9002c798229  \n",
       "47  57434748498eee3f1aeed03a  \n",
       "48  5d07af7f8c9f410023d6f0f8  \n",
       "49  50b77ec7e4b08ecf5a78a68f  "
      ]
     },
     "execution_count": 8,
     "metadata": {},
     "output_type": "execute_result"
    }
   ],
   "source": [
    "# keep only columns that include venue name, and anything that is associated with location\n",
    "filtered_columns = ['name', 'categories'] + [col for col in dataframe.columns if col.startswith('location.')] + ['id']\n",
    "dataframe_filtered = dataframe.loc[:, filtered_columns]\n",
    "\n",
    "# function that extracts the category of the venue\n",
    "def get_category_type(row):\n",
    "    try:\n",
    "        categories_list = row['categories']\n",
    "    except:\n",
    "        categories_list = row['venue.categories']\n",
    "        \n",
    "    if len(categories_list) == 0:\n",
    "        return None\n",
    "    else:\n",
    "        return categories_list[0]['name']\n",
    "\n",
    "# filter the category for each row\n",
    "dataframe_filtered['categories'] = dataframe_filtered.apply(get_category_type, axis=1)\n",
    "\n",
    "# clean column names by keeping only last term\n",
    "dataframe_filtered.columns = [column.split('.')[-1] for column in dataframe_filtered.columns]\n",
    "\n",
    "dataframe_filtered"
   ]
  },
  {
   "cell_type": "markdown",
   "metadata": {
    "button": false,
    "deletable": true,
    "new_sheet": false,
    "run_control": {
     "read_only": false
    }
   },
   "source": [
    "#### Let's visualize the Italian restaurants that are nearby"
   ]
  },
  {
   "cell_type": "code",
   "execution_count": 9,
   "metadata": {
    "button": false,
    "collapsed": false,
    "deletable": true,
    "jupyter": {
     "outputs_hidden": false
    },
    "new_sheet": false,
    "run_control": {
     "read_only": false
    }
   },
   "outputs": [
    {
     "data": {
      "text/plain": [
       "0                         HotBlack Coffee\n",
       "1                  Timothy's World Coffee\n",
       "2                  Timothy's World Coffee\n",
       "3                   Pilot Coffee Roasters\n",
       "4                         Balzac's Coffee\n",
       "5                  Timothy's World Coffee\n",
       "6             Sam James Coffee Bar (SJCB)\n",
       "7                          Jimmy's Coffee\n",
       "8                       Fahrenheit Coffee\n",
       "9                           Coffee office\n",
       "10                      Fahrenheit Coffee\n",
       "11                          I Deal Coffee\n",
       "12                 Timothy's World Coffee\n",
       "13                        Balzac's Coffee\n",
       "14                        Balzac's Coffee\n",
       "15                          T.A.N. Coffee\n",
       "16                 Timothy's World Coffee\n",
       "17            Sam James Coffee Bar (SJCB)\n",
       "18                 Timothy's World Coffee\n",
       "19                  Second Cup Coffee Co.\n",
       "20                 Timothy's World Coffee\n",
       "21                 Timothy's World Coffee\n",
       "22                   Rooster Coffee House\n",
       "23                 Timothy's World Coffee\n",
       "24                 Timothy's World Coffee\n",
       "25                         Jetfuel Coffee\n",
       "26                          Dineen Coffee\n",
       "27           The Library Specialty Coffee\n",
       "28    Super Jet International Coffee Shop\n",
       "29             Coffee, Oysters, Champagne\n",
       "30                         Jimmy's Coffee\n",
       "31           Coffee Culture Cafe & Eatery\n",
       "32              Coffee Antidote 9th Floor\n",
       "33           Luba’s Coffee & Tea Boutique\n",
       "34                          Coffee Pocket\n",
       "35                        Coffee Exchange\n",
       "36                          Hailed Coffee\n",
       "37                          Coffee Public\n",
       "38                        Balzac's Coffee\n",
       "39                 Timothy's World Coffee\n",
       "40                 Timothy's World Coffee\n",
       "41                  Pilot Coffee Roasters\n",
       "42                         Neo Coffee Bar\n",
       "43                         Jimmy's Coffee\n",
       "44                  Seattle's Best Coffee\n",
       "45                     M Square Coffee Co\n",
       "46             Fresh Start Coffee Company\n",
       "47                   Sam James Coffee Bar\n",
       "48                        Carbonic Coffee\n",
       "49                      Urbana Coffee Co.\n",
       "Name: name, dtype: object"
      ]
     },
     "execution_count": 9,
     "metadata": {},
     "output_type": "execute_result"
    }
   ],
   "source": [
    "dataframe_filtered.name"
   ]
  },
  {
   "cell_type": "code",
   "execution_count": 10,
   "metadata": {
    "button": false,
    "collapsed": false,
    "deletable": true,
    "jupyter": {
     "outputs_hidden": false
    },
    "new_sheet": false,
    "run_control": {
     "read_only": false
    }
   },
   "outputs": [
    {
     "data": {
      "text/html": [
       "<div style=\"width:100%;\"><div style=\"position:relative;width:100%;height:0;padding-bottom:60%;\"><iframe src=\"data:text/html;charset=utf-8;base64,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\" style=\"position:absolute;width:100%;height:100%;left:0;top:0;border:none !important;\" allowfullscreen webkitallowfullscreen mozallowfullscreen></iframe></div></div>"
      ],
      "text/plain": [
       "<folium.folium.Map at 0x7fa24cd14198>"
      ]
     },
     "execution_count": 10,
     "metadata": {},
     "output_type": "execute_result"
    }
   ],
   "source": [
    "venues_map = folium.Map(location=[latitude, longitude], zoom_start=13) # generate map centred around the Conrad Hotel\n",
    "\n",
    "# add a red circle marker to represent the Conrad Hotel\n",
    "folium.features.CircleMarker(\n",
    "    [latitude, longitude],\n",
    "    radius=10,\n",
    "    color='red',\n",
    "    popup='Conrad Hotel',\n",
    "    fill = True,\n",
    "    fill_color = 'red',\n",
    "    fill_opacity = 0.6\n",
    ").add_to(venues_map)\n",
    "\n",
    "# add the Italian restaurants as blue circle markers\n",
    "for lat, lng, label in zip(dataframe_filtered.lat, dataframe_filtered.lng, dataframe_filtered.categories):\n",
    "    folium.features.CircleMarker(\n",
    "        [lat, lng],\n",
    "        radius=5,\n",
    "        color='blue',\n",
    "        popup=label,\n",
    "        fill = True,\n",
    "        fill_color='blue',\n",
    "        fill_opacity=0.6\n",
    "    ).add_to(venues_map)\n",
    "\n",
    "# display map\n",
    "venues_map"
   ]
  },
  {
   "cell_type": "markdown",
   "metadata": {
    "button": false,
    "deletable": true,
    "new_sheet": false,
    "run_control": {
     "read_only": false
    }
   },
   "source": [
    "   "
   ]
  },
  {
   "cell_type": "markdown",
   "metadata": {
    "button": false,
    "deletable": true,
    "new_sheet": false,
    "run_control": {
     "read_only": false
    }
   },
   "source": [
    "<a id=\"item2\"></a>"
   ]
  },
  {
   "cell_type": "markdown",
   "metadata": {
    "button": false,
    "deletable": true,
    "new_sheet": false,
    "run_control": {
     "read_only": false
    }
   },
   "source": [
    "## 2. Explore a Given Venue\n",
    "> `https://api.foursquare.com/v2/venues/`**VENUE_ID**`?client_id=`**CLIENT_ID**`&client_secret=`**CLIENT_SECRET**`&v=`**VERSION**"
   ]
  },
  {
   "cell_type": "markdown",
   "metadata": {
    "button": false,
    "deletable": true,
    "new_sheet": false,
    "run_control": {
     "read_only": false
    }
   },
   "source": [
    "### A. Let's explore the closest Italian restaurant -- _Harry's Italian Pizza Bar_"
   ]
  },
  {
   "cell_type": "code",
   "execution_count": 11,
   "metadata": {
    "button": false,
    "collapsed": false,
    "deletable": true,
    "jupyter": {
     "outputs_hidden": false
    },
    "new_sheet": false,
    "run_control": {
     "read_only": false
    }
   },
   "outputs": [
    {
     "data": {
      "text/plain": [
       "'https://api.foursquare.com/v2/venues/4cd3543b793d224bff884810?client_id=EZU3NNX0BFUXMY5KLVPGCZHL4V1BWKVDNNQ4SUSP3WNL0LQ1&client_secret=YFWMVYKKS14SQ1D2WZNM5TSJVTEUR4UNVJ4TFBOZ4TJLP4XZ&v=20180604'"
      ]
     },
     "execution_count": 11,
     "metadata": {},
     "output_type": "execute_result"
    }
   ],
   "source": [
    "venue_id = '4cd3543b793d224bff884810' # ID of Harry's Italian Pizza Bar\n",
    "url = 'https://api.foursquare.com/v2/venues/{}?client_id={}&client_secret={}&v={}'.format(venue_id, CLIENT_ID, CLIENT_SECRET, VERSION)\n",
    "url"
   ]
  },
  {
   "cell_type": "markdown",
   "metadata": {
    "button": false,
    "deletable": true,
    "new_sheet": false,
    "run_control": {
     "read_only": false
    }
   },
   "source": [
    "#### Send GET request for result"
   ]
  },
  {
   "cell_type": "code",
   "execution_count": 12,
   "metadata": {
    "button": false,
    "collapsed": false,
    "deletable": true,
    "jupyter": {
     "outputs_hidden": false
    },
    "new_sheet": false,
    "run_control": {
     "read_only": false
    }
   },
   "outputs": [
    {
     "name": "stdout",
     "output_type": "stream",
     "text": [
      "dict_keys(['id', 'name', 'contact', 'location', 'canonicalUrl', 'categories', 'verified', 'stats', 'url', 'price', 'likes', 'dislike', 'ok', 'rating', 'ratingColor', 'ratingSignals', 'allowMenuUrlEdit', 'beenHere', 'specials', 'photos', 'venuePage', 'reasons', 'description', 'page', 'hereNow', 'createdAt', 'tips', 'shortUrl', 'timeZone', 'listed', 'hours', 'popular', 'pageUpdates', 'inbox', 'parent', 'hierarchy', 'attributes', 'bestPhoto', 'colors'])\n"
     ]
    },
    {
     "data": {
      "text/plain": [
       "{'id': '4cd3543b793d224bff884810',\n",
       " 'name': 'Not Just Coffee',\n",
       " 'contact': {'phone': '7048173868',\n",
       "  'formattedPhone': '(704) 817-3868',\n",
       "  'twitter': 'notjcoffeeclt',\n",
       "  'facebook': '175078169919',\n",
       "  'facebookUsername': 'notjustcoffee',\n",
       "  'facebookName': 'Not Just Coffee - 7th Street Public Market'},\n",
       " 'location': {'address': '224 E. 7th St',\n",
       "  'crossStreet': 'btw Brevard and College',\n",
       "  'lat': 35.22753683669642,\n",
       "  'lng': -80.83800452104721,\n",
       "  'labeledLatLngs': [{'label': 'display',\n",
       "    'lat': 35.22753683669642,\n",
       "    'lng': -80.83800452104721}],\n",
       "  'postalCode': '28202',\n",
       "  'cc': 'US',\n",
       "  'city': 'Charlotte',\n",
       "  'state': 'NC',\n",
       "  'country': 'United States',\n",
       "  'formattedAddress': ['224 E. 7th St (btw Brevard and College)',\n",
       "   'Charlotte, NC 28202',\n",
       "   'United States']},\n",
       " 'canonicalUrl': 'https://foursquare.com/notjcoffeeclt',\n",
       " 'categories': [{'id': '4bf58dd8d48988d1e0931735',\n",
       "   'name': 'Coffee Shop',\n",
       "   'pluralName': 'Coffee Shops',\n",
       "   'shortName': 'Coffee Shop',\n",
       "   'icon': {'prefix': 'https://ss3.4sqi.net/img/categories_v2/food/coffeeshop_',\n",
       "    'suffix': '.png'},\n",
       "   'primary': True},\n",
       "  {'id': '4bf58dd8d48988d16d941735',\n",
       "   'name': 'Café',\n",
       "   'pluralName': 'Cafés',\n",
       "   'shortName': 'Café',\n",
       "   'icon': {'prefix': 'https://ss3.4sqi.net/img/categories_v2/food/cafe_',\n",
       "    'suffix': '.png'}}],\n",
       " 'verified': True,\n",
       " 'stats': {'tipCount': 79},\n",
       " 'url': 'http://notjustcoffeeclt.com',\n",
       " 'price': {'tier': 1, 'message': 'Cheap', 'currency': '$'},\n",
       " 'likes': {'count': 183,\n",
       "  'groups': [{'type': 'others', 'count': 183, 'items': []}],\n",
       "  'summary': '183 Likes'},\n",
       " 'dislike': False,\n",
       " 'ok': False,\n",
       " 'rating': 9.2,\n",
       " 'ratingColor': '00B551',\n",
       " 'ratingSignals': 253,\n",
       " 'allowMenuUrlEdit': True,\n",
       " 'beenHere': {'count': 0,\n",
       "  'unconfirmedCount': 0,\n",
       "  'marked': False,\n",
       "  'lastCheckinExpiredAt': 0},\n",
       " 'specials': {'count': 0, 'items': []},\n",
       " 'photos': {'count': 316,\n",
       "  'groups': [{'type': 'venue',\n",
       "    'name': 'Venue photos',\n",
       "    'count': 316,\n",
       "    'items': [{'id': '514e00d5e4b0fc615cfd43d6',\n",
       "      'createdAt': 1364066517,\n",
       "      'source': {'name': 'Foursquare for iOS',\n",
       "       'url': 'https://foursquare.com/download/#/iphone'},\n",
       "      'prefix': 'https://fastly.4sqi.net/img/general/',\n",
       "      'suffix': '/6761709_tN5rBz_la_rHGnuYmnY1-ObMlfPsA9twFbkn9jI25S4.jpg',\n",
       "      'width': 720,\n",
       "      'height': 960,\n",
       "      'user': {'id': '6761709',\n",
       "       'firstName': 'Daniel',\n",
       "       'lastName': 'S',\n",
       "       'photo': {'prefix': 'https://fastly.4sqi.net/img/user/',\n",
       "        'suffix': '/31O5SRRKEDWCNILW.jpg'}},\n",
       "      'visibility': 'public'},\n",
       "     {'id': '507317fbe4b09145ce1d8496',\n",
       "      'createdAt': 1349720059,\n",
       "      'source': {'name': 'Foursquare for iOS',\n",
       "       'url': 'https://foursquare.com/download/#/iphone'},\n",
       "      'prefix': 'https://fastly.4sqi.net/img/general/',\n",
       "      'suffix': '/218787_eNEwND-wPj7uhZKeQRVanu-mCaptAL9Q-Geu-nEDofc.jpg',\n",
       "      'width': 540,\n",
       "      'height': 720,\n",
       "      'user': {'id': '218787',\n",
       "       'firstName': 'Jason',\n",
       "       'lastName': 'Y',\n",
       "       'photo': {'prefix': 'https://fastly.4sqi.net/img/user/',\n",
       "        'suffix': '/Z53LPCHFZWBFCMXR.jpg'}},\n",
       "      'visibility': 'public'}]}]},\n",
       " 'venuePage': {'id': '42835600'},\n",
       " 'reasons': {'count': 1,\n",
       "  'items': [{'summary': 'Lots of people like this place',\n",
       "    'type': 'general',\n",
       "    'reasonName': 'rawLikesReason'}]},\n",
       " 'description': 'Hand Crafted Espresso and Pour Over Coffee',\n",
       " 'page': {'user': {'id': '42835600',\n",
       "   'firstName': 'Not Just Coffee',\n",
       "   'photo': {'prefix': 'https://fastly.4sqi.net/img/user/',\n",
       "    'suffix': '/42835600-M11RDOH3JSNR2V3T.png'},\n",
       "   'type': 'venuePage',\n",
       "   'venue': {'id': '4cd3543b793d224bff884810'},\n",
       "   'tips': {'count': 0},\n",
       "   'lists': {'groups': [{'type': 'created', 'count': 2, 'items': []}]},\n",
       "   'bio': ''}},\n",
       " 'hereNow': {'count': 0, 'summary': 'Nobody here', 'groups': []},\n",
       " 'createdAt': 1288918075,\n",
       " 'tips': {'count': 79,\n",
       "  'groups': [{'type': 'others',\n",
       "    'name': 'All tips',\n",
       "    'count': 79,\n",
       "    'items': [{'id': '50a2f83fe4b06a7b0a5810eb',\n",
       "      'createdAt': 1352857663,\n",
       "      'text': 'They make their own caramel sauce which is incredible. Their seasonal fall latte and the vanilla sugar latte were both delicious as well!',\n",
       "      'type': 'user',\n",
       "      'canonicalUrl': 'https://foursquare.com/item/50a2f83fe4b06a7b0a5810eb',\n",
       "      'lang': 'en',\n",
       "      'likes': {'count': 5,\n",
       "       'groups': [{'type': 'others',\n",
       "         'count': 5,\n",
       "         'items': [{'id': '788366',\n",
       "           'firstName': 'Tamer',\n",
       "           'lastName': 'O',\n",
       "           'photo': {'prefix': 'https://fastly.4sqi.net/img/user/',\n",
       "            'suffix': '/788366-JDH1C0OXU0EBSLYQ.jpg'}},\n",
       "          {'id': '23677681',\n",
       "           'firstName': 'Sam',\n",
       "           'lastName': 'G',\n",
       "           'photo': {'prefix': 'https://fastly.4sqi.net/img/user/',\n",
       "            'suffix': '/FF3IP3JNWW2P2LIK.jpg'}},\n",
       "          {'id': '1039470',\n",
       "           'firstName': 'Kaiyah',\n",
       "           'lastName': 'O',\n",
       "           'photo': {'prefix': 'https://fastly.4sqi.net/img/user/',\n",
       "            'suffix': '/EJJNJRJNDYCHTD5W.jpg'}},\n",
       "          {'id': '3213648',\n",
       "           'firstName': 'Patrick',\n",
       "           'lastName': 'L',\n",
       "           'photo': {'prefix': 'https://fastly.4sqi.net/img/user/',\n",
       "            'suffix': '/3213648-HL5Q43BLMPAMTQ4Y.jpg'}}]}],\n",
       "       'summary': '5 likes'},\n",
       "      'logView': True,\n",
       "      'agreeCount': 5,\n",
       "      'disagreeCount': 0,\n",
       "      'todo': {'count': 0},\n",
       "      'user': {'id': '8205824',\n",
       "       'firstName': 'Sonia',\n",
       "       'lastName': 'P',\n",
       "       'photo': {'prefix': 'https://fastly.4sqi.net/img/user/',\n",
       "        'suffix': '/1AKAGB2CKONCPLFN.jpg'}}},\n",
       "     {'id': '4f294ef9e4b0c8cf0e005093',\n",
       "      'createdAt': 1328107257,\n",
       "      'text': 'Coffee is great. If your hungry walk around to 6th street for the best Q in town at Queen City Q',\n",
       "      'type': 'user',\n",
       "      'canonicalUrl': 'https://foursquare.com/item/4f294ef9e4b0c8cf0e005093',\n",
       "      'lang': 'en',\n",
       "      'likes': {'count': 4,\n",
       "       'groups': [{'type': 'others',\n",
       "         'count': 4,\n",
       "         'items': [{'id': '3012889',\n",
       "           'firstName': 'Adam',\n",
       "           'lastName': 'S',\n",
       "           'photo': {'prefix': 'https://fastly.4sqi.net/img/user/',\n",
       "            'suffix': '/R0HUZEUCPYNKWQGU.jpg'}},\n",
       "          {'id': '1541984',\n",
       "           'firstName': 'Heather',\n",
       "           'photo': {'prefix': 'https://fastly.4sqi.net/img/user/',\n",
       "            'suffix': '/1541984-2T5PO4GIAHSDAHRA.jpg'}},\n",
       "          {'id': '6020632',\n",
       "           'firstName': 'Towner',\n",
       "           'lastName': 'B',\n",
       "           'photo': {'prefix': 'https://fastly.4sqi.net/img/user/',\n",
       "            'suffix': '/EYTNYT0KPOSKVBO1.jpg'}},\n",
       "          {'id': '42835600',\n",
       "           'firstName': 'Not Just Coffee',\n",
       "           'photo': {'prefix': 'https://fastly.4sqi.net/img/user/',\n",
       "            'suffix': '/42835600-M11RDOH3JSNR2V3T.png'},\n",
       "           'type': 'venuePage',\n",
       "           'venue': {'id': '4cd3543b793d224bff884810'}}]}],\n",
       "       'summary': '4 likes'},\n",
       "      'logView': True,\n",
       "      'agreeCount': 4,\n",
       "      'disagreeCount': 0,\n",
       "      'todo': {'count': 0},\n",
       "      'user': {'id': '5162956',\n",
       "       'firstName': 'Bryan',\n",
       "       'lastName': 'M',\n",
       "       'photo': {'prefix': 'https://fastly.4sqi.net/img/user/',\n",
       "        'suffix': '/PCNBK2HSKAPYM3WV.jpg'}}}]}]},\n",
       " 'shortUrl': 'http://4sq.com/8Z8ENo',\n",
       " 'timeZone': 'America/New_York',\n",
       " 'listed': {'count': 148,\n",
       "  'groups': [{'type': 'others',\n",
       "    'name': 'Lists from other people',\n",
       "    'count': 148,\n",
       "    'items': [{'id': '5120dd74e4b09380850582ed',\n",
       "      'name': 'Charlotte, NC',\n",
       "      'description': '',\n",
       "      'type': 'others',\n",
       "      'user': {'id': '9879656',\n",
       "       'firstName': 'eye',\n",
       "       'photo': {'prefix': 'https://fastly.4sqi.net/img/user/',\n",
       "        'suffix': '/4ZI3BQ0YPYR5K4RL.jpg'}},\n",
       "      'editable': False,\n",
       "      'public': True,\n",
       "      'collaborative': False,\n",
       "      'url': '/whateyemade/list/charlotte-nc',\n",
       "      'canonicalUrl': 'https://foursquare.com/whateyemade/list/charlotte-nc',\n",
       "      'createdAt': 1361108340,\n",
       "      'updatedAt': 1369796919,\n",
       "      'photo': {'id': '504a564be4b016812079f9e1',\n",
       "       'createdAt': 1347049035,\n",
       "       'prefix': 'https://fastly.4sqi.net/img/general/',\n",
       "       'suffix': '/iv07jpZ5MkBGu9KRftaCaTINUGKqdg4UNd_uMGvJ13M.jpg',\n",
       "       'width': 540,\n",
       "       'height': 540,\n",
       "       'user': {'id': '166365',\n",
       "        'firstName': 'Laetitia',\n",
       "        'lastName': 'B',\n",
       "        'photo': {'prefix': 'https://fastly.4sqi.net/img/user/',\n",
       "         'suffix': '/4LW2CA5DGMT5VEX4.jpg'}},\n",
       "       'visibility': 'public'},\n",
       "      'followers': {'count': 4},\n",
       "      'listItems': {'count': 54,\n",
       "       'items': [{'id': 'v4cd3543b793d224bff884810',\n",
       "         'createdAt': 1361507268,\n",
       "         'photo': {'id': '4f25b4e6e4b0fd18392401b2',\n",
       "          'createdAt': 1327871206,\n",
       "          'prefix': 'https://fastly.4sqi.net/img/general/',\n",
       "          'suffix': '/PWQGEXELDIFBNWMLPQV3RXFS4BMHT4KK2G3IZVA2ROYUGX0Q.jpg',\n",
       "          'width': 540,\n",
       "          'height': 540,\n",
       "          'user': {'id': '218787',\n",
       "           'firstName': 'Jason',\n",
       "           'lastName': 'Y',\n",
       "           'photo': {'prefix': 'https://fastly.4sqi.net/img/user/',\n",
       "            'suffix': '/Z53LPCHFZWBFCMXR.jpg'}},\n",
       "          'visibility': 'public'}}]}},\n",
       "     {'id': '4e7356b8cc3f93bd7713488e',\n",
       "      'name': 'Top picks for Coffee Shops',\n",
       "      'description': '',\n",
       "      'type': 'others',\n",
       "      'user': {'id': '2593543',\n",
       "       'firstName': 'Brad',\n",
       "       'lastName': 'T',\n",
       "       'photo': {'prefix': 'https://fastly.4sqi.net/img/user/',\n",
       "        'suffix': '/2593543_VowuOAX-_pEs_SPyz_4ZhAU4XMYh2g5Qay4ylrP5dasd7qcaBwY0RhsA7Xhv--5Av__SYjPtn.jpg'}},\n",
       "      'editable': False,\n",
       "      'public': True,\n",
       "      'collaborative': False,\n",
       "      'url': '/antibrad/list/top-picks-for-coffee-shops',\n",
       "      'canonicalUrl': 'https://foursquare.com/antibrad/list/top-picks-for-coffee-shops',\n",
       "      'createdAt': 1316181688,\n",
       "      'updatedAt': 1396815141,\n",
       "      'followers': {'count': 9},\n",
       "      'listItems': {'count': 7,\n",
       "       'items': [{'id': 'v4cd3543b793d224bff884810',\n",
       "         'createdAt': 1316181688,\n",
       "         'photo': {'id': '4d8a950e96912da170a2bc88',\n",
       "          'createdAt': 1300927758,\n",
       "          'prefix': 'https://fastly.4sqi.net/img/general/',\n",
       "          'suffix': '/BBR0ZQOTBBBVFKQW01WGR3F3HZDHHCBVOJPXH03TYG1CYFA3.jpg',\n",
       "          'width': 431,\n",
       "          'height': 720,\n",
       "          'user': {'id': '95611',\n",
       "           'firstName': 'Nick',\n",
       "           'lastName': 'P',\n",
       "           'photo': {'prefix': 'https://fastly.4sqi.net/img/user/',\n",
       "            'suffix': '/E4KZVOIW2DD0MLEZ.jpg'}},\n",
       "          'visibility': 'public'}}]}},\n",
       "     {'id': '4eb5aa2ef790d87d02d626e1',\n",
       "      'name': 'Always good',\n",
       "      'description': 'Reliable food and spirit, locally owned and operated',\n",
       "      'type': 'others',\n",
       "      'user': {'id': '6481569',\n",
       "       'firstName': 'Jennifer',\n",
       "       'lastName': 'O',\n",
       "       'photo': {'prefix': 'https://fastly.4sqi.net/img/user/',\n",
       "        'suffix': '/QLW4CV44VPCCPO5R.jpg'}},\n",
       "      'editable': False,\n",
       "      'public': True,\n",
       "      'collaborative': False,\n",
       "      'url': '/jennimusing/list/always-good',\n",
       "      'canonicalUrl': 'https://foursquare.com/jennimusing/list/always-good',\n",
       "      'createdAt': 1320528430,\n",
       "      'updatedAt': 1504533384,\n",
       "      'photo': {'id': '4e4eb807d164978659bfeac9',\n",
       "       'createdAt': 1313781767,\n",
       "       'prefix': 'https://fastly.4sqi.net/img/general/',\n",
       "       'suffix': '/MFXX0HKYNBILCJOWW35UDBA01X1BHQVBIYIP4IWL3MSWKELE.jpg',\n",
       "       'width': 537,\n",
       "       'height': 720,\n",
       "       'user': {'id': '6481569',\n",
       "        'firstName': 'Jennifer',\n",
       "        'lastName': 'O',\n",
       "        'photo': {'prefix': 'https://fastly.4sqi.net/img/user/',\n",
       "         'suffix': '/QLW4CV44VPCCPO5R.jpg'}},\n",
       "       'visibility': 'public'},\n",
       "      'followers': {'count': 5},\n",
       "      'listItems': {'count': 28,\n",
       "       'items': [{'id': 'v4cd3543b793d224bff884810',\n",
       "         'createdAt': 1387663480}]}},\n",
       "     {'id': '4ff6133fe4b02ca33bbc93dc',\n",
       "      'name': 'Charlotte Favorites',\n",
       "      'description': '',\n",
       "      'type': 'others',\n",
       "      'user': {'id': '7908441',\n",
       "       'firstName': 'Susannah',\n",
       "       'lastName': 'B',\n",
       "       'photo': {'prefix': 'https://fastly.4sqi.net/img/user/',\n",
       "        'suffix': '/NOAVUT44IHDUZJ5M.jpg'}},\n",
       "      'editable': False,\n",
       "      'public': True,\n",
       "      'collaborative': False,\n",
       "      'url': '/user/7908441/list/charlotte-favorites',\n",
       "      'canonicalUrl': 'https://foursquare.com/user/7908441/list/charlotte-favorites',\n",
       "      'createdAt': 1341526847,\n",
       "      'updatedAt': 1467500770,\n",
       "      'photo': {'id': '513a7300e4b0d8fbe869a812',\n",
       "       'createdAt': 1362785024,\n",
       "       'prefix': 'https://fastly.4sqi.net/img/general/',\n",
       "       'suffix': '/21807957_gMNZg_PlElACjkxhHEcvH-bfsom-pgPBUXJcIvGAY8o.jpg',\n",
       "       'width': 720,\n",
       "       'height': 960,\n",
       "       'user': {'id': '21807957',\n",
       "        'firstName': 'NC DWI',\n",
       "        'lastName': 'B',\n",
       "        'photo': {'prefix': 'https://fastly.4sqi.net/img/user/',\n",
       "         'suffix': '/DH0TF0QBNU3Z3QYV.jpg'}},\n",
       "       'visibility': 'public'},\n",
       "      'followers': {'count': 5},\n",
       "      'listItems': {'count': 139,\n",
       "       'items': [{'id': 'v4cd3543b793d224bff884810',\n",
       "         'createdAt': 1380397085}]}}]}]},\n",
       " 'hours': {'status': 'Open until 7:00 PM',\n",
       "  'richStatus': {'entities': [], 'text': 'Open until 7:00 PM'},\n",
       "  'isOpen': True,\n",
       "  'isLocalHoliday': False,\n",
       "  'dayData': [],\n",
       "  'timeframes': [{'days': 'Mon–Fri',\n",
       "    'includesToday': True,\n",
       "    'open': [{'renderedTime': '7:00 AM–7:00 PM'}],\n",
       "    'segments': []},\n",
       "   {'days': 'Sat',\n",
       "    'open': [{'renderedTime': '8:30 AM–7:00 PM'}],\n",
       "    'segments': []},\n",
       "   {'days': 'Sun',\n",
       "    'open': [{'renderedTime': '8:30 AM–4:00 PM'}],\n",
       "    'segments': []}]},\n",
       " 'popular': {'status': 'Likely open',\n",
       "  'richStatus': {'entities': [], 'text': 'Likely open'},\n",
       "  'isOpen': True,\n",
       "  'isLocalHoliday': False,\n",
       "  'timeframes': [{'days': 'Today',\n",
       "    'includesToday': True,\n",
       "    'open': [{'renderedTime': '7:00 AM–5:00 PM'}],\n",
       "    'segments': []},\n",
       "   {'days': 'Thu',\n",
       "    'open': [{'renderedTime': '7:00 AM–5:00 PM'}],\n",
       "    'segments': []},\n",
       "   {'days': 'Fri',\n",
       "    'open': [{'renderedTime': '7:00 AM–7:00 PM'}],\n",
       "    'segments': []},\n",
       "   {'days': 'Sat',\n",
       "    'open': [{'renderedTime': '9:00 AM–7:00 PM'}],\n",
       "    'segments': []},\n",
       "   {'days': 'Sun',\n",
       "    'open': [{'renderedTime': '9:00 AM–4:00 PM'}],\n",
       "    'segments': []},\n",
       "   {'days': 'Mon',\n",
       "    'open': [{'renderedTime': '7:00 AM–5:00 PM'}],\n",
       "    'segments': []},\n",
       "   {'days': 'Tue',\n",
       "    'open': [{'renderedTime': '7:00 AM–4:00 PM'}],\n",
       "    'segments': []}]},\n",
       " 'pageUpdates': {'count': 0, 'items': []},\n",
       " 'inbox': {'count': 0, 'items': []},\n",
       " 'parent': {'id': '4ede3935b6344371fb52c197',\n",
       "  'name': '7th Street Public Market',\n",
       "  'location': {'address': '224 East 7th St.',\n",
       "   'lat': 35.22756202745097,\n",
       "   'lng': -80.83799407313707,\n",
       "   'labeledLatLngs': [{'label': 'display',\n",
       "     'lat': 35.22756202745097,\n",
       "     'lng': -80.83799407313707}],\n",
       "   'postalCode': '28202',\n",
       "   'cc': 'US',\n",
       "   'city': 'Charlotte',\n",
       "   'state': 'NC',\n",
       "   'country': 'United States',\n",
       "   'formattedAddress': ['224 East 7th St.',\n",
       "    'Charlotte, NC 28202',\n",
       "    'United States']},\n",
       "  'categories': [{'id': '4bf58dd8d48988d1fa941735',\n",
       "    'name': 'Farmers Market',\n",
       "    'pluralName': 'Farmers Markets',\n",
       "    'shortName': \"Farmer's Market\",\n",
       "    'icon': {'prefix': 'https://ss3.4sqi.net/img/categories_v2/shops/food_farmersmarket_',\n",
       "     'suffix': '.png'},\n",
       "    'primary': True}],\n",
       "  'venuePage': {'id': '80501922'}},\n",
       " 'hierarchy': [{'name': '7th Street Public Market',\n",
       "   'lang': 'en',\n",
       "   'id': '4ede3935b6344371fb52c197',\n",
       "   'canonicalUrl': 'https://foursquare.com/v/7th-street-public-market/4ede3935b6344371fb52c197'}],\n",
       " 'attributes': {'groups': [{'type': 'price',\n",
       "    'name': 'Price',\n",
       "    'summary': '$',\n",
       "    'count': 1,\n",
       "    'items': [{'displayName': 'Price', 'displayValue': '$', 'priceTier': 1}]},\n",
       "   {'type': 'reservations',\n",
       "    'name': 'Reservations',\n",
       "    'count': 3,\n",
       "    'items': [{'displayName': 'Reservations', 'displayValue': 'No'}]},\n",
       "   {'type': 'payments',\n",
       "    'name': 'Credit Cards',\n",
       "    'summary': 'Credit Cards',\n",
       "    'count': 7,\n",
       "    'items': [{'displayName': 'Credit Cards',\n",
       "      'displayValue': 'Yes (incl. Discover & Visa)'}]},\n",
       "   {'type': 'outdoorSeating',\n",
       "    'name': 'Outdoor Seating',\n",
       "    'summary': 'Outdoor Seating',\n",
       "    'count': 1,\n",
       "    'items': [{'displayName': 'Outdoor Seating', 'displayValue': 'Yes'}]},\n",
       "   {'type': 'wifi',\n",
       "    'name': 'Wi-Fi',\n",
       "    'summary': 'Wi-Fi',\n",
       "    'count': 1,\n",
       "    'items': [{'displayName': 'Wi-Fi', 'displayValue': 'Yes'}]},\n",
       "   {'type': 'serves',\n",
       "    'name': 'Menus',\n",
       "    'summary': 'Breakfast',\n",
       "    'count': 8,\n",
       "    'items': [{'displayName': 'Breakfast', 'displayValue': 'Breakfast'}]},\n",
       "   {'type': 'diningOptions',\n",
       "    'name': 'Dining Options',\n",
       "    'count': 5,\n",
       "    'items': [{'displayName': 'Delivery', 'displayValue': 'No Delivery'}]}]},\n",
       " 'bestPhoto': {'id': '514e00d5e4b0fc615cfd43d6',\n",
       "  'createdAt': 1364066517,\n",
       "  'source': {'name': 'Foursquare for iOS',\n",
       "   'url': 'https://foursquare.com/download/#/iphone'},\n",
       "  'prefix': 'https://fastly.4sqi.net/img/general/',\n",
       "  'suffix': '/6761709_tN5rBz_la_rHGnuYmnY1-ObMlfPsA9twFbkn9jI25S4.jpg',\n",
       "  'width': 720,\n",
       "  'height': 960,\n",
       "  'visibility': 'public'},\n",
       " 'colors': {'highlightColor': {'photoId': '514e00d5e4b0fc615cfd43d6',\n",
       "   'value': -13627368},\n",
       "  'highlightTextColor': {'photoId': '514e00d5e4b0fc615cfd43d6', 'value': -1},\n",
       "  'algoVersion': 3}}"
      ]
     },
     "execution_count": 12,
     "metadata": {},
     "output_type": "execute_result"
    }
   ],
   "source": [
    "result = requests.get(url).json()\n",
    "print(result['response']['venue'].keys())\n",
    "result['response']['venue']"
   ]
  },
  {
   "cell_type": "markdown",
   "metadata": {
    "button": false,
    "deletable": true,
    "new_sheet": false,
    "run_control": {
     "read_only": false
    }
   },
   "source": [
    "### B. Get the venue's overall rating"
   ]
  },
  {
   "cell_type": "code",
   "execution_count": 13,
   "metadata": {
    "button": false,
    "collapsed": false,
    "deletable": true,
    "jupyter": {
     "outputs_hidden": false
    },
    "new_sheet": false,
    "run_control": {
     "read_only": false
    }
   },
   "outputs": [
    {
     "name": "stdout",
     "output_type": "stream",
     "text": [
      "9.2\n"
     ]
    }
   ],
   "source": [
    "try:\n",
    "    print(result['response']['venue']['rating'])\n",
    "except:\n",
    "    print('This venue has not been rated yet.')"
   ]
  },
  {
   "cell_type": "markdown",
   "metadata": {
    "button": false,
    "deletable": true,
    "new_sheet": false,
    "run_control": {
     "read_only": false
    }
   },
   "source": [
    "That is not a very good rating. Let's check the rating of the second closest Italian restaurant."
   ]
  },
  {
   "cell_type": "code",
   "execution_count": 14,
   "metadata": {
    "button": false,
    "collapsed": false,
    "deletable": true,
    "jupyter": {
     "outputs_hidden": false
    },
    "new_sheet": false,
    "run_control": {
     "read_only": false
    }
   },
   "outputs": [
    {
     "name": "stdout",
     "output_type": "stream",
     "text": [
      "7.9\n"
     ]
    }
   ],
   "source": [
    "venue_id = '59f784dd28122f14f9d5d63d' # ID of Conca Cucina Italian Restaurant\n",
    "url = 'https://api.foursquare.com/v2/venues/{}?client_id={}&client_secret={}&v={}'.format(venue_id, CLIENT_ID, CLIENT_SECRET, VERSION)\n",
    "\n",
    "result = requests.get(url).json()\n",
    "try:\n",
    "    print(result['response']['venue']['rating'])\n",
    "except:\n",
    "    print('This venue has not been rated yet.')"
   ]
  },
  {
   "cell_type": "markdown",
   "metadata": {
    "button": false,
    "deletable": true,
    "new_sheet": false,
    "run_control": {
     "read_only": false
    }
   },
   "source": [
    "Since this restaurant has no ratings, let's check the third restaurant."
   ]
  },
  {
   "cell_type": "code",
   "execution_count": 15,
   "metadata": {
    "button": false,
    "collapsed": false,
    "deletable": true,
    "jupyter": {
     "outputs_hidden": false
    },
    "new_sheet": false,
    "run_control": {
     "read_only": false
    }
   },
   "outputs": [
    {
     "name": "stdout",
     "output_type": "stream",
     "text": [
      "7.9\n"
     ]
    }
   ],
   "source": [
    "venue_id = '59f784dd28122f14f9d5d63d' # ID of Ecco\n",
    "url = 'https://api.foursquare.com/v2/venues/{}?client_id={}&client_secret={}&v={}'.format(venue_id, CLIENT_ID, CLIENT_SECRET, VERSION)\n",
    "\n",
    "result = requests.get(url).json()\n",
    "try:\n",
    "    print(result['response']['venue']['rating'])\n",
    "except:\n",
    "    print('This venue has not been rated yet.')"
   ]
  },
  {
   "cell_type": "markdown",
   "metadata": {
    "button": false,
    "deletable": true,
    "new_sheet": false,
    "run_control": {
     "read_only": false
    }
   },
   "source": [
    "Since this restaurant has a slightly better rating, let's explore it further."
   ]
  },
  {
   "cell_type": "markdown",
   "metadata": {
    "button": false,
    "deletable": true,
    "new_sheet": false,
    "run_control": {
     "read_only": false
    }
   },
   "source": [
    "### C. Get the number of tips"
   ]
  },
  {
   "cell_type": "code",
   "execution_count": 16,
   "metadata": {
    "button": false,
    "collapsed": false,
    "deletable": true,
    "jupyter": {
     "outputs_hidden": false
    },
    "new_sheet": false,
    "run_control": {
     "read_only": false
    }
   },
   "outputs": [
    {
     "data": {
      "text/plain": [
       "31"
      ]
     },
     "execution_count": 16,
     "metadata": {},
     "output_type": "execute_result"
    }
   ],
   "source": [
    "result['response']['venue']['tips']['count']"
   ]
  },
  {
   "cell_type": "markdown",
   "metadata": {
    "button": false,
    "deletable": true,
    "new_sheet": false,
    "run_control": {
     "read_only": false
    }
   },
   "source": [
    "### D. Get the venue's tips\n",
    "> `https://api.foursquare.com/v2/venues/`**VENUE_ID**`/tips?client_id=`**CLIENT_ID**`&client_secret=`**CLIENT_SECRET**`&v=`**VERSION**`&limit=`**LIMIT**"
   ]
  },
  {
   "cell_type": "markdown",
   "metadata": {
    "button": false,
    "deletable": true,
    "new_sheet": false,
    "run_control": {
     "read_only": false
    }
   },
   "source": [
    "#### Create URL and send GET request. Make sure to set limit to get all tips"
   ]
  },
  {
   "cell_type": "code",
   "execution_count": 17,
   "metadata": {
    "button": false,
    "collapsed": false,
    "deletable": true,
    "jupyter": {
     "outputs_hidden": false
    },
    "new_sheet": false,
    "run_control": {
     "read_only": false
    }
   },
   "outputs": [
    {
     "data": {
      "text/plain": [
       "{'meta': {'code': 200, 'requestId': '5e31f7b00cc1fd001b1e984e'},\n",
       " 'response': {'tips': {'count': 31,\n",
       "   'items': [{'id': '5851d3c36e607514d9a41b62',\n",
       "     'createdAt': 1481757635,\n",
       "     'text': 'Coffee taken to new level of perfection. They have a crazy water purification system and their machines pressure is controlled every second...  best experience! Good sweets.Friendly staff!',\n",
       "     'type': 'user',\n",
       "     'canonicalUrl': 'https://foursquare.com/item/5851d3c36e607514d9a41b62',\n",
       "     'lang': 'en',\n",
       "     'likes': {'count': 0, 'groups': []},\n",
       "     'logView': True,\n",
       "     'agreeCount': 5,\n",
       "     'disagreeCount': 0,\n",
       "     'todo': {'count': 0},\n",
       "     'user': {'id': '7658576',\n",
       "      'firstName': 'mundi',\n",
       "      'lastName': 's',\n",
       "      'photo': {'prefix': 'https://fastly.4sqi.net/img/user/',\n",
       "       'suffix': '/7658576_UtvB2iSc_zuA8PGP1eaebLEibR1juv_55RN4YbidEupSrfEpRXEEAuHUIxlYZLFFDn_yuXauW.jpg'}}},\n",
       "    {'id': '59d6a4d17564f75c571df78f',\n",
       "     'createdAt': 1507239121,\n",
       "     'text': \"Neat patio in the back for those talks you can't have on the streets. Don't worry about bumping into coworkers here. They're probably at Starbucks or Timmie's nearby.\",\n",
       "     'type': 'user',\n",
       "     'canonicalUrl': 'https://foursquare.com/item/59d6a4d17564f75c571df78f',\n",
       "     'lang': 'en',\n",
       "     'likes': {'count': 0, 'groups': []},\n",
       "     'logView': True,\n",
       "     'agreeCount': 4,\n",
       "     'disagreeCount': 0,\n",
       "     'lastVoteText': 'Upvoted Nov 3, 2019',\n",
       "     'lastUpvoteTimestamp': 1572813389,\n",
       "     'todo': {'count': 0},\n",
       "     'user': {'id': '694333',\n",
       "      'firstName': 'Marvin',\n",
       "      'photo': {'prefix': 'https://fastly.4sqi.net/img/user/',\n",
       "       'suffix': '/694333_MLLbeu-4_L7AbtZyO931P6UDBtszHJTD3C3VNYm2tj7lzUXc_fk910w2SETcvR9Pn1VV2k5-1.jpg'}}}]}}}"
      ]
     },
     "execution_count": 17,
     "metadata": {},
     "output_type": "execute_result"
    }
   ],
   "source": [
    "## Ecco Tips\n",
    "limit = 15 # set limit to be greater than or equal to the total number of tips\n",
    "url = 'https://api.foursquare.com/v2/venues/{}/tips?client_id={}&client_secret={}&v={}&limit={}'.format(venue_id, CLIENT_ID, CLIENT_SECRET, VERSION, limit)\n",
    "\n",
    "results = requests.get(url).json()\n",
    "results"
   ]
  },
  {
   "cell_type": "markdown",
   "metadata": {
    "button": false,
    "deletable": true,
    "new_sheet": false,
    "run_control": {
     "read_only": false
    }
   },
   "source": [
    "#### Get tips and list of associated features"
   ]
  },
  {
   "cell_type": "code",
   "execution_count": 18,
   "metadata": {
    "button": false,
    "collapsed": false,
    "deletable": true,
    "jupyter": {
     "outputs_hidden": false
    },
    "new_sheet": false,
    "run_control": {
     "read_only": false
    }
   },
   "outputs": [
    {
     "data": {
      "text/plain": [
       "dict_keys(['id', 'createdAt', 'text', 'type', 'canonicalUrl', 'lang', 'likes', 'logView', 'agreeCount', 'disagreeCount', 'todo', 'user'])"
      ]
     },
     "execution_count": 18,
     "metadata": {},
     "output_type": "execute_result"
    }
   ],
   "source": [
    "tips = results['response']['tips']['items']\n",
    "\n",
    "tip = results['response']['tips']['items'][0]\n",
    "tip.keys()"
   ]
  },
  {
   "cell_type": "markdown",
   "metadata": {
    "button": false,
    "deletable": true,
    "new_sheet": false,
    "run_control": {
     "read_only": false
    }
   },
   "source": [
    "#### Format column width and display all tips"
   ]
  },
  {
   "cell_type": "code",
   "execution_count": 19,
   "metadata": {
    "button": false,
    "collapsed": false,
    "deletable": true,
    "jupyter": {
     "outputs_hidden": false
    },
    "new_sheet": false,
    "run_control": {
     "read_only": false
    }
   },
   "outputs": [
    {
     "name": "stderr",
     "output_type": "stream",
     "text": [
      "/home/jupyterlab/conda/envs/python/lib/python3.6/site-packages/pandas/core/indexing.py:1418: FutureWarning: \n",
      "Passing list-likes to .loc or [] with any missing label will raise\n",
      "KeyError in the future, you can use .reindex() as an alternative.\n",
      "\n",
      "See the documentation here:\n",
      "https://pandas.pydata.org/pandas-docs/stable/user_guide/indexing.html#deprecate-loc-reindex-listlike\n",
      "  return self._getitem_tuple(key)\n"
     ]
    },
    {
     "data": {
      "text/html": [
       "<div>\n",
       "<style scoped>\n",
       "    .dataframe tbody tr th:only-of-type {\n",
       "        vertical-align: middle;\n",
       "    }\n",
       "\n",
       "    .dataframe tbody tr th {\n",
       "        vertical-align: top;\n",
       "    }\n",
       "\n",
       "    .dataframe thead th {\n",
       "        text-align: right;\n",
       "    }\n",
       "</style>\n",
       "<table border=\"1\" class=\"dataframe\">\n",
       "  <thead>\n",
       "    <tr style=\"text-align: right;\">\n",
       "      <th></th>\n",
       "      <th>text</th>\n",
       "      <th>agreeCount</th>\n",
       "      <th>disagreeCount</th>\n",
       "      <th>id</th>\n",
       "      <th>user.firstName</th>\n",
       "      <th>user.lastName</th>\n",
       "      <th>user.gender</th>\n",
       "      <th>user.id</th>\n",
       "    </tr>\n",
       "  </thead>\n",
       "  <tbody>\n",
       "    <tr>\n",
       "      <th>0</th>\n",
       "      <td>Coffee taken to new level of perfection. They have a crazy water purification system and their machines pressure is controlled every second...  best experience! Good sweets.Friendly staff!</td>\n",
       "      <td>5</td>\n",
       "      <td>0</td>\n",
       "      <td>5851d3c36e607514d9a41b62</td>\n",
       "      <td>mundi</td>\n",
       "      <td>s</td>\n",
       "      <td>NaN</td>\n",
       "      <td>7658576</td>\n",
       "    </tr>\n",
       "    <tr>\n",
       "      <th>1</th>\n",
       "      <td>Neat patio in the back for those talks you can't have on the streets. Don't worry about bumping into coworkers here. They're probably at Starbucks or Timmie's nearby.</td>\n",
       "      <td>4</td>\n",
       "      <td>0</td>\n",
       "      <td>59d6a4d17564f75c571df78f</td>\n",
       "      <td>Marvin</td>\n",
       "      <td>NaN</td>\n",
       "      <td>NaN</td>\n",
       "      <td>694333</td>\n",
       "    </tr>\n",
       "  </tbody>\n",
       "</table>\n",
       "</div>"
      ],
      "text/plain": [
       "                                                                                                                                                                                           text  \\\n",
       "0  Coffee taken to new level of perfection. They have a crazy water purification system and their machines pressure is controlled every second...  best experience! Good sweets.Friendly staff!   \n",
       "1  Neat patio in the back for those talks you can't have on the streets. Don't worry about bumping into coworkers here. They're probably at Starbucks or Timmie's nearby.                         \n",
       "\n",
       "   agreeCount  disagreeCount                        id user.firstName  \\\n",
       "0  5           0              5851d3c36e607514d9a41b62  mundi           \n",
       "1  4           0              59d6a4d17564f75c571df78f  Marvin          \n",
       "\n",
       "  user.lastName  user.gender  user.id  \n",
       "0  s            NaN           7658576  \n",
       "1  NaN          NaN           694333   "
      ]
     },
     "execution_count": 19,
     "metadata": {},
     "output_type": "execute_result"
    }
   ],
   "source": [
    "pd.set_option('display.max_colwidth', -1)\n",
    "\n",
    "tips_df = json_normalize(tips) # json normalize tips\n",
    "\n",
    "# columns to keep\n",
    "filtered_columns = ['text', 'agreeCount', 'disagreeCount', 'id', 'user.firstName', 'user.lastName', 'user.gender', 'user.id']\n",
    "tips_filtered = tips_df.loc[:, filtered_columns]\n",
    "\n",
    "# display tips\n",
    "tips_filtered"
   ]
  },
  {
   "cell_type": "markdown",
   "metadata": {
    "button": false,
    "deletable": true,
    "new_sheet": false,
    "run_control": {
     "read_only": false
    }
   },
   "source": [
    "Now remember that because we are using a personal developer account, then we can access only 2 of the restaurant's tips, instead of all 15 tips."
   ]
  },
  {
   "cell_type": "markdown",
   "metadata": {
    "button": false,
    "deletable": true,
    "new_sheet": false,
    "run_control": {
     "read_only": false
    }
   },
   "source": [
    "   "
   ]
  },
  {
   "cell_type": "markdown",
   "metadata": {
    "button": false,
    "deletable": true,
    "new_sheet": false,
    "run_control": {
     "read_only": false
    }
   },
   "source": [
    "<a id=\"item3\"></a>"
   ]
  },
  {
   "cell_type": "markdown",
   "metadata": {
    "button": false,
    "deletable": true,
    "new_sheet": false,
    "run_control": {
     "read_only": false
    }
   },
   "source": [
    "## 3. Search a Foursquare User\n",
    "> `https://api.foursquare.com/v2/users/`**USER_ID**`?client_id=`**CLIENT_ID**`&client_secret=`**CLIENT_SECRET**`&v=`**VERSION**"
   ]
  },
  {
   "cell_type": "markdown",
   "metadata": {
    "button": false,
    "deletable": true,
    "new_sheet": false,
    "run_control": {
     "read_only": false
    }
   },
   "source": [
    "### Define URL, send GET request and display features associated with user"
   ]
  },
  {
   "cell_type": "code",
   "execution_count": 23,
   "metadata": {
    "button": false,
    "deletable": true,
    "new_sheet": false,
    "run_control": {
     "read_only": false
    }
   },
   "outputs": [
    {
     "data": {
      "text/plain": [
       "{'meta': {'code': 401,\n",
       "  'errorType': 'invalid_auth',\n",
       "  'errorDetail': 'Missing oauth_token. See https://developer.foursquare.com/docs/api/configuration/authentication for details.',\n",
       "  'requestId': '5e31f8803907e70027f110c0'},\n",
       " 'response': {}}"
      ]
     },
     "execution_count": 23,
     "metadata": {},
     "output_type": "execute_result"
    }
   ],
   "source": [
    "user_id = '7658576' # user ID with most agree counts and complete profile\n",
    "CLIENT_ID = 'EZU3NNX0BFUXMY5KLVPGCZHL4V1BWKVDNNQ4SUSP3WNL0LQ1' # your Foursquare ID\n",
    "CLIENT_SECRET = 'YFWMVYKKS14SQ1D2WZNM5TSJVTEUR4UNVJ4TFBOZ4TJLP4XZ' # your Foursquare Secret\n",
    "VERSION = '20180604'\n",
    "\n",
    "url = 'https://api.foursquare.com/v2/users/{}?client_id={}&client_secret={}&v={}'.format(user_id, CLIENT_ID, CLIENT_SECRET, VERSION) # define URL\n",
    "\n",
    "# send GET request\n",
    "results = requests.get(url).json()\n",
    "results\n",
    "# user_data = results['response']['user']\n",
    "\n",
    "# display features associated with user\n",
    "# user_data.keys()"
   ]
  },
  {
   "cell_type": "code",
   "execution_count": null,
   "metadata": {
    "button": false,
    "collapsed": false,
    "deletable": true,
    "jupyter": {
     "outputs_hidden": false
    },
    "new_sheet": false,
    "run_control": {
     "read_only": false
    }
   },
   "outputs": [],
   "source": [
    "print('First Name: ' + user_data['firstName'])\n",
    "print('Last Name: ' + user_data['lastName'])\n",
    "print('Home City: ' + user_data['homeCity'])"
   ]
  },
  {
   "cell_type": "markdown",
   "metadata": {
    "button": false,
    "deletable": true,
    "new_sheet": false,
    "run_control": {
     "read_only": false
    }
   },
   "source": [
    "#### How many tips has this user submitted?"
   ]
  },
  {
   "cell_type": "code",
   "execution_count": null,
   "metadata": {
    "button": false,
    "collapsed": false,
    "deletable": true,
    "jupyter": {
     "outputs_hidden": false
    },
    "new_sheet": false,
    "run_control": {
     "read_only": false
    }
   },
   "outputs": [],
   "source": [
    "user_data['tips']"
   ]
  },
  {
   "cell_type": "markdown",
   "metadata": {
    "button": false,
    "deletable": true,
    "new_sheet": false,
    "run_control": {
     "read_only": false
    }
   },
   "source": [
    "Wow! So it turns out that Nick is a very active Foursquare user, with more than 250 tips."
   ]
  },
  {
   "cell_type": "markdown",
   "metadata": {
    "button": false,
    "deletable": true,
    "new_sheet": false,
    "run_control": {
     "read_only": false
    }
   },
   "source": [
    "### Get User's tips"
   ]
  },
  {
   "cell_type": "code",
   "execution_count": null,
   "metadata": {
    "button": false,
    "collapsed": false,
    "deletable": true,
    "jupyter": {
     "outputs_hidden": false
    },
    "new_sheet": false,
    "run_control": {
     "read_only": false
    }
   },
   "outputs": [],
   "source": [
    "# define tips URL\n",
    "url = 'https://api.foursquare.com/v2/users/{}/tips?client_id={}&client_secret={}&v={}&limit={}'.format(user_id, CLIENT_ID, CLIENT_SECRET, VERSION, limit)\n",
    "\n",
    "# send GET request and get user's tips\n",
    "results = requests.get(url).json()\n",
    "tips = results['response']['tips']['items']\n",
    "\n",
    "# format column width\n",
    "pd.set_option('display.max_colwidth', -1)\n",
    "\n",
    "tips_df = json_normalize(tips)\n",
    "\n",
    "# filter columns\n",
    "filtered_columns = ['text', 'agreeCount', 'disagreeCount', 'id']\n",
    "tips_filtered = tips_df.loc[:, filtered_columns]\n",
    "\n",
    "# display user's tips\n",
    "tips_filtered"
   ]
  },
  {
   "cell_type": "markdown",
   "metadata": {
    "button": false,
    "deletable": true,
    "new_sheet": false,
    "run_control": {
     "read_only": false
    }
   },
   "source": [
    "#### Let's get the venue for the tip with the greatest number of agree counts"
   ]
  },
  {
   "cell_type": "code",
   "execution_count": null,
   "metadata": {
    "button": false,
    "collapsed": false,
    "deletable": true,
    "jupyter": {
     "outputs_hidden": false
    },
    "new_sheet": false,
    "run_control": {
     "read_only": false
    }
   },
   "outputs": [],
   "source": [
    "tip_id = '5ab5575d73fe2516ad8f363b' # tip id\n",
    "\n",
    "# define URL\n",
    "url = 'http://api.foursquare.com/v2/tips/{}?client_id={}&client_secret={}&v={}'.format(tip_id, CLIENT_ID, CLIENT_SECRET, VERSION)\n",
    "\n",
    "# send GET Request and examine results\n",
    "result = requests.get(url).json()\n",
    "print(result['response']['tip']['venue']['name'])\n",
    "print(result['response']['tip']['venue']['location'])"
   ]
  },
  {
   "cell_type": "markdown",
   "metadata": {
    "button": false,
    "deletable": true,
    "new_sheet": false,
    "run_control": {
     "read_only": false
    }
   },
   "source": [
    "### Get User's friends"
   ]
  },
  {
   "cell_type": "code",
   "execution_count": null,
   "metadata": {
    "button": false,
    "collapsed": false,
    "deletable": true,
    "jupyter": {
     "outputs_hidden": false
    },
    "new_sheet": false,
    "run_control": {
     "read_only": false
    }
   },
   "outputs": [],
   "source": [
    "user_friends = json_normalize(user_data['friends']['groups'][0]['items'])\n",
    "user_friends"
   ]
  },
  {
   "cell_type": "markdown",
   "metadata": {
    "button": false,
    "deletable": true,
    "new_sheet": false,
    "run_control": {
     "read_only": false
    }
   },
   "source": [
    "Interesting. Despite being very active, it turns out that Nick does not have any friends on Foursquare. This might definitely change in the future."
   ]
  },
  {
   "cell_type": "markdown",
   "metadata": {
    "button": false,
    "deletable": true,
    "new_sheet": false,
    "run_control": {
     "read_only": false
    }
   },
   "source": [
    "### Retrieve the User's Profile Image"
   ]
  },
  {
   "cell_type": "code",
   "execution_count": null,
   "metadata": {
    "button": false,
    "collapsed": false,
    "deletable": true,
    "jupyter": {
     "outputs_hidden": false
    },
    "new_sheet": false,
    "run_control": {
     "read_only": false
    },
    "scrolled": true
   },
   "outputs": [],
   "source": [
    "user_data"
   ]
  },
  {
   "cell_type": "code",
   "execution_count": null,
   "metadata": {
    "button": false,
    "collapsed": false,
    "deletable": true,
    "jupyter": {
     "outputs_hidden": false
    },
    "new_sheet": false,
    "run_control": {
     "read_only": false
    }
   },
   "outputs": [],
   "source": [
    "# 1. grab prefix of photo\n",
    "# 2. grab suffix of photo\n",
    "# 3. concatenate them using the image size  \n",
    "Image(url='https://igx.4sqi.net/img/user/300x300/484542633_mK2Yum7T_7Tn9fWpndidJsmw2Hof_6T5vJBKCHPLMK5OL-U5ZiJGj51iwBstcpDLYa3Zvhvis.jpg')"
   ]
  },
  {
   "cell_type": "markdown",
   "metadata": {
    "button": false,
    "deletable": true,
    "new_sheet": false,
    "run_control": {
     "read_only": false
    }
   },
   "source": [
    "  "
   ]
  },
  {
   "cell_type": "markdown",
   "metadata": {
    "button": false,
    "deletable": true,
    "new_sheet": false,
    "run_control": {
     "read_only": false
    }
   },
   "source": [
    "<a id=\"item4\"></a>"
   ]
  },
  {
   "cell_type": "markdown",
   "metadata": {
    "button": false,
    "deletable": true,
    "new_sheet": false,
    "run_control": {
     "read_only": false
    }
   },
   "source": [
    "## 4. Explore a location\n",
    "> `https://api.foursquare.com/v2/venues/`**explore**`?client_id=`**CLIENT_ID**`&client_secret=`**CLIENT_SECRET**`&ll=`**LATITUDE**`,`**LONGITUDE**`&v=`**VERSION**`&limit=`**LIMIT**"
   ]
  },
  {
   "cell_type": "markdown",
   "metadata": {
    "button": false,
    "deletable": true,
    "new_sheet": false,
    "run_control": {
     "read_only": false
    }
   },
   "source": [
    "#### So, you just finished your gourmet dish at Ecco, and are just curious about the popular spots around the restaurant. In order to explore the area, let's start by getting the latitude and longitude values of Ecco Restaurant."
   ]
  },
  {
   "cell_type": "code",
   "execution_count": 24,
   "metadata": {
    "button": false,
    "deletable": true,
    "new_sheet": false,
    "run_control": {
     "read_only": false
    }
   },
   "outputs": [],
   "source": [
    "address = 'Toronto, CA'\n",
    "\n",
    "geolocator = Nominatim(user_agent=\"foursquare_agent\")\n",
    "location = geolocator.geocode(address)\n",
    "latitude = location.latitude\n",
    "longitude = location.longitude"
   ]
  },
  {
   "cell_type": "markdown",
   "metadata": {
    "button": false,
    "deletable": true,
    "new_sheet": false,
    "run_control": {
     "read_only": false
    }
   },
   "source": [
    "#### Define URL"
   ]
  },
  {
   "cell_type": "code",
   "execution_count": 25,
   "metadata": {
    "button": false,
    "collapsed": false,
    "deletable": true,
    "jupyter": {
     "outputs_hidden": false
    },
    "new_sheet": false,
    "run_control": {
     "read_only": false
    }
   },
   "outputs": [
    {
     "data": {
      "text/plain": [
       "'https://api.foursquare.com/v2/venues/explore?client_id=EZU3NNX0BFUXMY5KLVPGCZHL4V1BWKVDNNQ4SUSP3WNL0LQ1&client_secret=YFWMVYKKS14SQ1D2WZNM5TSJVTEUR4UNVJ4TFBOZ4TJLP4XZ&ll=43.653963,-79.387207&v=20180604&radius=5000&limit=200'"
      ]
     },
     "execution_count": 25,
     "metadata": {},
     "output_type": "execute_result"
    }
   ],
   "source": [
    "url = 'https://api.foursquare.com/v2/venues/explore?client_id={}&client_secret={}&ll={},{}&v={}&radius={}&limit={}'.format(CLIENT_ID, CLIENT_SECRET, latitude, longitude, VERSION, radius, LIMIT)\n",
    "url"
   ]
  },
  {
   "cell_type": "markdown",
   "metadata": {
    "button": false,
    "deletable": true,
    "new_sheet": false,
    "run_control": {
     "read_only": false
    }
   },
   "source": [
    "#### Send GET request and examine results"
   ]
  },
  {
   "cell_type": "code",
   "execution_count": 26,
   "metadata": {
    "button": false,
    "deletable": true,
    "new_sheet": false,
    "run_control": {
     "read_only": false
    }
   },
   "outputs": [],
   "source": [
    "import requests"
   ]
  },
  {
   "cell_type": "code",
   "execution_count": 27,
   "metadata": {
    "button": false,
    "collapsed": false,
    "deletable": true,
    "jupyter": {
     "outputs_hidden": false
    },
    "new_sheet": false,
    "run_control": {
     "read_only": false
    }
   },
   "outputs": [
    {
     "data": {
      "text/plain": [
       "'There are 100 around Ecco restaurant.'"
      ]
     },
     "execution_count": 27,
     "metadata": {},
     "output_type": "execute_result"
    }
   ],
   "source": [
    "results = requests.get(url).json()\n",
    "'There are {} around Ecco restaurant.'.format(len(results['response']['groups'][0]['items']))"
   ]
  },
  {
   "cell_type": "markdown",
   "metadata": {
    "button": false,
    "deletable": true,
    "new_sheet": false,
    "run_control": {
     "read_only": false
    }
   },
   "source": [
    "#### Get relevant part of JSON"
   ]
  },
  {
   "cell_type": "code",
   "execution_count": 28,
   "metadata": {
    "button": false,
    "collapsed": false,
    "deletable": true,
    "jupyter": {
     "outputs_hidden": false
    },
    "new_sheet": false,
    "run_control": {
     "read_only": false
    }
   },
   "outputs": [
    {
     "data": {
      "text/plain": [
       "{'reasons': {'count': 0,\n",
       "  'items': [{'summary': 'This spot is popular',\n",
       "    'type': 'general',\n",
       "    'reasonName': 'globalInteractionReason'}]},\n",
       " 'venue': {'id': '5227bb01498e17bf485e6202',\n",
       "  'name': 'Downtown Toronto',\n",
       "  'location': {'lat': 43.65323167517444,\n",
       "   'lng': -79.38529600606677,\n",
       "   'labeledLatLngs': [{'label': 'display',\n",
       "     'lat': 43.65323167517444,\n",
       "     'lng': -79.38529600606677}],\n",
       "   'distance': 174,\n",
       "   'cc': 'CA',\n",
       "   'city': 'Toronto',\n",
       "   'state': 'ON',\n",
       "   'country': 'Canada',\n",
       "   'formattedAddress': ['Toronto ON', 'Canada']},\n",
       "  'categories': [{'id': '4f2a25ac4b909258e854f55f',\n",
       "    'name': 'Neighborhood',\n",
       "    'pluralName': 'Neighborhoods',\n",
       "    'shortName': 'Neighborhood',\n",
       "    'icon': {'prefix': 'https://ss3.4sqi.net/img/categories_v2/parks_outdoors/neighborhood_',\n",
       "     'suffix': '.png'},\n",
       "    'primary': True}],\n",
       "  'photos': {'count': 0, 'groups': []}},\n",
       " 'referralId': 'e-0-5227bb01498e17bf485e6202-0'}"
      ]
     },
     "execution_count": 28,
     "metadata": {},
     "output_type": "execute_result"
    }
   ],
   "source": [
    "items = results['response']['groups'][0]['items']\n",
    "items[0]"
   ]
  },
  {
   "cell_type": "markdown",
   "metadata": {
    "button": false,
    "deletable": true,
    "new_sheet": false,
    "run_control": {
     "read_only": false
    }
   },
   "source": [
    "#### Process JSON and convert it to a clean dataframe"
   ]
  },
  {
   "cell_type": "code",
   "execution_count": 29,
   "metadata": {
    "button": false,
    "collapsed": false,
    "deletable": true,
    "jupyter": {
     "outputs_hidden": false
    },
    "new_sheet": false,
    "run_control": {
     "read_only": false
    }
   },
   "outputs": [
    {
     "data": {
      "text/html": [
       "<div>\n",
       "<style scoped>\n",
       "    .dataframe tbody tr th:only-of-type {\n",
       "        vertical-align: middle;\n",
       "    }\n",
       "\n",
       "    .dataframe tbody tr th {\n",
       "        vertical-align: top;\n",
       "    }\n",
       "\n",
       "    .dataframe thead th {\n",
       "        text-align: right;\n",
       "    }\n",
       "</style>\n",
       "<table border=\"1\" class=\"dataframe\">\n",
       "  <thead>\n",
       "    <tr style=\"text-align: right;\">\n",
       "      <th></th>\n",
       "      <th>name</th>\n",
       "      <th>categories</th>\n",
       "      <th>lat</th>\n",
       "      <th>lng</th>\n",
       "      <th>labeledLatLngs</th>\n",
       "      <th>distance</th>\n",
       "      <th>cc</th>\n",
       "      <th>city</th>\n",
       "      <th>state</th>\n",
       "      <th>country</th>\n",
       "      <th>formattedAddress</th>\n",
       "      <th>address</th>\n",
       "      <th>crossStreet</th>\n",
       "      <th>postalCode</th>\n",
       "      <th>neighborhood</th>\n",
       "      <th>id</th>\n",
       "    </tr>\n",
       "  </thead>\n",
       "  <tbody>\n",
       "    <tr>\n",
       "      <th>0</th>\n",
       "      <td>Downtown Toronto</td>\n",
       "      <td>Neighborhood</td>\n",
       "      <td>43.653232</td>\n",
       "      <td>-79.385296</td>\n",
       "      <td>[{'label': 'display', 'lat': 43.65323167517444, 'lng': -79.38529600606677}]</td>\n",
       "      <td>174</td>\n",
       "      <td>CA</td>\n",
       "      <td>Toronto</td>\n",
       "      <td>ON</td>\n",
       "      <td>Canada</td>\n",
       "      <td>[Toronto ON, Canada]</td>\n",
       "      <td>NaN</td>\n",
       "      <td>NaN</td>\n",
       "      <td>NaN</td>\n",
       "      <td>NaN</td>\n",
       "      <td>5227bb01498e17bf485e6202</td>\n",
       "    </tr>\n",
       "    <tr>\n",
       "      <th>1</th>\n",
       "      <td>Art Gallery of Ontario</td>\n",
       "      <td>Art Gallery</td>\n",
       "      <td>43.654003</td>\n",
       "      <td>-79.392922</td>\n",
       "      <td>[{'label': 'display', 'lat': 43.654002860337386, 'lng': -79.39292172707437}]</td>\n",
       "      <td>460</td>\n",
       "      <td>CA</td>\n",
       "      <td>Toronto</td>\n",
       "      <td>ON</td>\n",
       "      <td>Canada</td>\n",
       "      <td>[317 Dundas St W (at Beverley St), Toronto ON M5T 1G4, Canada]</td>\n",
       "      <td>317 Dundas St W</td>\n",
       "      <td>at Beverley St</td>\n",
       "      <td>M5T 1G4</td>\n",
       "      <td>NaN</td>\n",
       "      <td>4ad4c05ef964a520daf620e3</td>\n",
       "    </tr>\n",
       "    <tr>\n",
       "      <th>2</th>\n",
       "      <td>Four Seasons Centre for the Performing Arts</td>\n",
       "      <td>Concert Hall</td>\n",
       "      <td>43.650592</td>\n",
       "      <td>-79.385806</td>\n",
       "      <td>[{'label': 'display', 'lat': 43.650592, 'lng': -79.385806}]</td>\n",
       "      <td>391</td>\n",
       "      <td>CA</td>\n",
       "      <td>Toronto</td>\n",
       "      <td>ON</td>\n",
       "      <td>Canada</td>\n",
       "      <td>[145 Queen St. W (at University Ave.), Toronto ON M5H 4G1, Canada]</td>\n",
       "      <td>145 Queen St. W</td>\n",
       "      <td>at University Ave.</td>\n",
       "      <td>M5H 4G1</td>\n",
       "      <td>NaN</td>\n",
       "      <td>4ad4c062f964a520e5f720e3</td>\n",
       "    </tr>\n",
       "    <tr>\n",
       "      <th>3</th>\n",
       "      <td>Nathan Phillips Square</td>\n",
       "      <td>Plaza</td>\n",
       "      <td>43.652270</td>\n",
       "      <td>-79.383516</td>\n",
       "      <td>[{'label': 'display', 'lat': 43.65227047322295, 'lng': -79.38351631164551}]</td>\n",
       "      <td>351</td>\n",
       "      <td>CA</td>\n",
       "      <td>Toronto</td>\n",
       "      <td>ON</td>\n",
       "      <td>Canada</td>\n",
       "      <td>[100 Queen St W (at Bay St), Toronto ON M5H 2N1, Canada]</td>\n",
       "      <td>100 Queen St W</td>\n",
       "      <td>at Bay St</td>\n",
       "      <td>M5H 2N1</td>\n",
       "      <td>NaN</td>\n",
       "      <td>4ad4c05ef964a520a6f620e3</td>\n",
       "    </tr>\n",
       "    <tr>\n",
       "      <th>4</th>\n",
       "      <td>UNIQLO ユニクロ</td>\n",
       "      <td>Clothing Store</td>\n",
       "      <td>43.655910</td>\n",
       "      <td>-79.380641</td>\n",
       "      <td>[{'label': 'display', 'lat': 43.65591027779457, 'lng': -79.38064099181345}]</td>\n",
       "      <td>571</td>\n",
       "      <td>CA</td>\n",
       "      <td>Toronto</td>\n",
       "      <td>ON</td>\n",
       "      <td>Canada</td>\n",
       "      <td>[220 Yonge St (at Dundas St W), Toronto ON M5B 2H1, Canada]</td>\n",
       "      <td>220 Yonge St</td>\n",
       "      <td>at Dundas St W</td>\n",
       "      <td>M5B 2H1</td>\n",
       "      <td>Downtown Toronto</td>\n",
       "      <td>57eda381498ebe0e6ef40972</td>\n",
       "    </tr>\n",
       "    <tr>\n",
       "      <th>5</th>\n",
       "      <td>Pai</td>\n",
       "      <td>Thai Restaurant</td>\n",
       "      <td>43.647923</td>\n",
       "      <td>-79.388579</td>\n",
       "      <td>[{'label': 'display', 'lat': 43.64792310735613, 'lng': -79.38857932631602}]</td>\n",
       "      <td>681</td>\n",
       "      <td>CA</td>\n",
       "      <td>Toronto</td>\n",
       "      <td>ON</td>\n",
       "      <td>Canada</td>\n",
       "      <td>[18 Duncan St (Adelaide and Duncan), Toronto ON M5H 3G6, Canada]</td>\n",
       "      <td>18 Duncan St</td>\n",
       "      <td>Adelaide and Duncan</td>\n",
       "      <td>M5H 3G6</td>\n",
       "      <td>Entertainment District</td>\n",
       "      <td>529612de11d2ab526191ccc9</td>\n",
       "    </tr>\n",
       "    <tr>\n",
       "      <th>6</th>\n",
       "      <td>Shangri-La Toronto</td>\n",
       "      <td>Hotel</td>\n",
       "      <td>43.649129</td>\n",
       "      <td>-79.386557</td>\n",
       "      <td>[{'label': 'display', 'lat': 43.64912919417502, 'lng': -79.3865566853963}]</td>\n",
       "      <td>540</td>\n",
       "      <td>CA</td>\n",
       "      <td>Toronto</td>\n",
       "      <td>ON</td>\n",
       "      <td>Canada</td>\n",
       "      <td>[188 University Ave. (at Adelaide St. W), Toronto ON M5H 0A3, Canada]</td>\n",
       "      <td>188 University Ave.</td>\n",
       "      <td>at Adelaide St. W</td>\n",
       "      <td>M5H 0A3</td>\n",
       "      <td>NaN</td>\n",
       "      <td>4e31b74252b131dcebb08743</td>\n",
       "    </tr>\n",
       "    <tr>\n",
       "      <th>7</th>\n",
       "      <td>Hailed Coffee</td>\n",
       "      <td>Coffee Shop</td>\n",
       "      <td>43.658833</td>\n",
       "      <td>-79.383684</td>\n",
       "      <td>[{'label': 'display', 'lat': 43.65883296982352, 'lng': -79.38368351986598}]</td>\n",
       "      <td>611</td>\n",
       "      <td>CA</td>\n",
       "      <td>Toronto</td>\n",
       "      <td>ON</td>\n",
       "      <td>Canada</td>\n",
       "      <td>[44 Gerrard St W (Yonge St), Toronto ON M5G, Canada]</td>\n",
       "      <td>44 Gerrard St W</td>\n",
       "      <td>Yonge St</td>\n",
       "      <td>M5G</td>\n",
       "      <td>College Park</td>\n",
       "      <td>5a81ae339deb7d369fa7f146</td>\n",
       "    </tr>\n",
       "    <tr>\n",
       "      <th>8</th>\n",
       "      <td>Byblos Toronto</td>\n",
       "      <td>Mediterranean Restaurant</td>\n",
       "      <td>43.647615</td>\n",
       "      <td>-79.388381</td>\n",
       "      <td>[{'label': 'display', 'lat': 43.647615054171766, 'lng': -79.3883810317138}]</td>\n",
       "      <td>712</td>\n",
       "      <td>CA</td>\n",
       "      <td>Toronto</td>\n",
       "      <td>ON</td>\n",
       "      <td>Canada</td>\n",
       "      <td>[11 Duncan Street, Toronto ON M5V 3M2, Canada]</td>\n",
       "      <td>11 Duncan Street</td>\n",
       "      <td>NaN</td>\n",
       "      <td>M5V 3M2</td>\n",
       "      <td>NaN</td>\n",
       "      <td>5321f4d9e4b07946702e6e08</td>\n",
       "    </tr>\n",
       "    <tr>\n",
       "      <th>9</th>\n",
       "      <td>The Keg Steakhouse + Bar</td>\n",
       "      <td>Steakhouse</td>\n",
       "      <td>43.649937</td>\n",
       "      <td>-79.384196</td>\n",
       "      <td>[{'label': 'display', 'lat': 43.649937252985254, 'lng': -79.38419604942506}]</td>\n",
       "      <td>509</td>\n",
       "      <td>CA</td>\n",
       "      <td>Toronto</td>\n",
       "      <td>ON</td>\n",
       "      <td>Canada</td>\n",
       "      <td>[165 York St (btwn Richmond St. &amp; Adelaide St.), Toronto ON M5H 3R8, Canada]</td>\n",
       "      <td>165 York St</td>\n",
       "      <td>btwn Richmond St. &amp; Adelaide St.</td>\n",
       "      <td>M5H 3R8</td>\n",
       "      <td>NaN</td>\n",
       "      <td>4ad69511f964a520e40721e3</td>\n",
       "    </tr>\n",
       "  </tbody>\n",
       "</table>\n",
       "</div>"
      ],
      "text/plain": [
       "                                          name                categories  \\\n",
       "0  Downtown Toronto                             Neighborhood               \n",
       "1  Art Gallery of Ontario                       Art Gallery                \n",
       "2  Four Seasons Centre for the Performing Arts  Concert Hall               \n",
       "3  Nathan Phillips Square                       Plaza                      \n",
       "4  UNIQLO ユニクロ                                  Clothing Store             \n",
       "5  Pai                                          Thai Restaurant            \n",
       "6  Shangri-La Toronto                           Hotel                      \n",
       "7  Hailed Coffee                                Coffee Shop                \n",
       "8  Byblos Toronto                               Mediterranean Restaurant   \n",
       "9  The Keg Steakhouse + Bar                     Steakhouse                 \n",
       "\n",
       "         lat        lng  \\\n",
       "0  43.653232 -79.385296   \n",
       "1  43.654003 -79.392922   \n",
       "2  43.650592 -79.385806   \n",
       "3  43.652270 -79.383516   \n",
       "4  43.655910 -79.380641   \n",
       "5  43.647923 -79.388579   \n",
       "6  43.649129 -79.386557   \n",
       "7  43.658833 -79.383684   \n",
       "8  43.647615 -79.388381   \n",
       "9  43.649937 -79.384196   \n",
       "\n",
       "                                                                 labeledLatLngs  \\\n",
       "0  [{'label': 'display', 'lat': 43.65323167517444, 'lng': -79.38529600606677}]    \n",
       "1  [{'label': 'display', 'lat': 43.654002860337386, 'lng': -79.39292172707437}]   \n",
       "2  [{'label': 'display', 'lat': 43.650592, 'lng': -79.385806}]                    \n",
       "3  [{'label': 'display', 'lat': 43.65227047322295, 'lng': -79.38351631164551}]    \n",
       "4  [{'label': 'display', 'lat': 43.65591027779457, 'lng': -79.38064099181345}]    \n",
       "5  [{'label': 'display', 'lat': 43.64792310735613, 'lng': -79.38857932631602}]    \n",
       "6  [{'label': 'display', 'lat': 43.64912919417502, 'lng': -79.3865566853963}]     \n",
       "7  [{'label': 'display', 'lat': 43.65883296982352, 'lng': -79.38368351986598}]    \n",
       "8  [{'label': 'display', 'lat': 43.647615054171766, 'lng': -79.3883810317138}]    \n",
       "9  [{'label': 'display', 'lat': 43.649937252985254, 'lng': -79.38419604942506}]   \n",
       "\n",
       "   distance  cc     city state country  \\\n",
       "0  174       CA  Toronto  ON    Canada   \n",
       "1  460       CA  Toronto  ON    Canada   \n",
       "2  391       CA  Toronto  ON    Canada   \n",
       "3  351       CA  Toronto  ON    Canada   \n",
       "4  571       CA  Toronto  ON    Canada   \n",
       "5  681       CA  Toronto  ON    Canada   \n",
       "6  540       CA  Toronto  ON    Canada   \n",
       "7  611       CA  Toronto  ON    Canada   \n",
       "8  712       CA  Toronto  ON    Canada   \n",
       "9  509       CA  Toronto  ON    Canada   \n",
       "\n",
       "                                                               formattedAddress  \\\n",
       "0  [Toronto ON, Canada]                                                           \n",
       "1  [317 Dundas St W (at Beverley St), Toronto ON M5T 1G4, Canada]                 \n",
       "2  [145 Queen St. W (at University Ave.), Toronto ON M5H 4G1, Canada]             \n",
       "3  [100 Queen St W (at Bay St), Toronto ON M5H 2N1, Canada]                       \n",
       "4  [220 Yonge St (at Dundas St W), Toronto ON M5B 2H1, Canada]                    \n",
       "5  [18 Duncan St (Adelaide and Duncan), Toronto ON M5H 3G6, Canada]               \n",
       "6  [188 University Ave. (at Adelaide St. W), Toronto ON M5H 0A3, Canada]          \n",
       "7  [44 Gerrard St W (Yonge St), Toronto ON M5G, Canada]                           \n",
       "8  [11 Duncan Street, Toronto ON M5V 3M2, Canada]                                 \n",
       "9  [165 York St (btwn Richmond St. & Adelaide St.), Toronto ON M5H 3R8, Canada]   \n",
       "\n",
       "               address                       crossStreet postalCode  \\\n",
       "0  NaN                  NaN                               NaN         \n",
       "1  317 Dundas St W      at Beverley St                    M5T 1G4     \n",
       "2  145 Queen St. W      at University Ave.                M5H 4G1     \n",
       "3  100 Queen St W       at Bay St                         M5H 2N1     \n",
       "4  220 Yonge St         at Dundas St W                    M5B 2H1     \n",
       "5  18 Duncan St         Adelaide and Duncan               M5H 3G6     \n",
       "6  188 University Ave.  at Adelaide St. W                 M5H 0A3     \n",
       "7  44 Gerrard St W      Yonge St                          M5G         \n",
       "8  11 Duncan Street     NaN                               M5V 3M2     \n",
       "9  165 York St          btwn Richmond St. & Adelaide St.  M5H 3R8     \n",
       "\n",
       "             neighborhood                        id  \n",
       "0  NaN                     5227bb01498e17bf485e6202  \n",
       "1  NaN                     4ad4c05ef964a520daf620e3  \n",
       "2  NaN                     4ad4c062f964a520e5f720e3  \n",
       "3  NaN                     4ad4c05ef964a520a6f620e3  \n",
       "4  Downtown Toronto        57eda381498ebe0e6ef40972  \n",
       "5  Entertainment District  529612de11d2ab526191ccc9  \n",
       "6  NaN                     4e31b74252b131dcebb08743  \n",
       "7  College Park            5a81ae339deb7d369fa7f146  \n",
       "8  NaN                     5321f4d9e4b07946702e6e08  \n",
       "9  NaN                     4ad69511f964a520e40721e3  "
      ]
     },
     "execution_count": 29,
     "metadata": {},
     "output_type": "execute_result"
    }
   ],
   "source": [
    "dataframe = json_normalize(items) # flatten JSON\n",
    "\n",
    "# filter columns\n",
    "filtered_columns = ['venue.name', 'venue.categories'] + [col for col in dataframe.columns if col.startswith('venue.location.')] + ['venue.id']\n",
    "dataframe_filtered = dataframe.loc[:, filtered_columns]\n",
    "\n",
    "# filter the category for each row\n",
    "dataframe_filtered['venue.categories'] = dataframe_filtered.apply(get_category_type, axis=1)\n",
    "\n",
    "# clean columns\n",
    "dataframe_filtered.columns = [col.split('.')[-1] for col in dataframe_filtered.columns]\n",
    "\n",
    "dataframe_filtered.head(10)"
   ]
  },
  {
   "cell_type": "markdown",
   "metadata": {
    "button": false,
    "deletable": true,
    "new_sheet": false,
    "run_control": {
     "read_only": false
    }
   },
   "source": [
    "#### Let's visualize these items on the map around our location"
   ]
  },
  {
   "cell_type": "code",
   "execution_count": 30,
   "metadata": {
    "button": false,
    "collapsed": false,
    "deletable": true,
    "jupyter": {
     "outputs_hidden": false
    },
    "new_sheet": false,
    "run_control": {
     "read_only": false
    }
   },
   "outputs": [
    {
     "data": {
      "text/html": [
       "<div style=\"width:100%;\"><div style=\"position:relative;width:100%;height:0;padding-bottom:60%;\"><iframe src=\"data:text/html;charset=utf-8;base64,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\" style=\"position:absolute;width:100%;height:100%;left:0;top:0;border:none !important;\" allowfullscreen webkitallowfullscreen mozallowfullscreen></iframe></div></div>"
      ],
      "text/plain": [
       "<folium.folium.Map at 0x7fa24ca31b00>"
      ]
     },
     "execution_count": 30,
     "metadata": {},
     "output_type": "execute_result"
    }
   ],
   "source": [
    "venues_map = folium.Map(location=[latitude, longitude], zoom_start=15) # generate map centred around Ecco\n",
    "\n",
    "\n",
    "# add Ecco as a red circle mark\n",
    "folium.features.CircleMarker(\n",
    "    [latitude, longitude],\n",
    "    radius=10,\n",
    "    popup='Ecco',\n",
    "    fill=True,\n",
    "    color='red',\n",
    "    fill_color='red',\n",
    "    fill_opacity=0.6\n",
    "    ).add_to(venues_map)\n",
    "\n",
    "\n",
    "# add popular spots to the map as blue circle markers\n",
    "for lat, lng, label in zip(dataframe_filtered.lat, dataframe_filtered.lng, dataframe_filtered.categories):\n",
    "    folium.features.CircleMarker(\n",
    "        [lat, lng],\n",
    "        radius=5,\n",
    "        popup=label,\n",
    "        fill=True,\n",
    "        color='blue',\n",
    "        fill_color='blue',\n",
    "        fill_opacity=0.6\n",
    "        ).add_to(venues_map)\n",
    "\n",
    "# display map\n",
    "venues_map"
   ]
  },
  {
   "cell_type": "markdown",
   "metadata": {
    "button": false,
    "deletable": true,
    "new_sheet": false,
    "run_control": {
     "read_only": false
    }
   },
   "source": [
    "   "
   ]
  },
  {
   "cell_type": "markdown",
   "metadata": {
    "button": false,
    "deletable": true,
    "new_sheet": false,
    "run_control": {
     "read_only": false
    }
   },
   "source": [
    "<a id=\"item5\"></a>"
   ]
  },
  {
   "cell_type": "markdown",
   "metadata": {
    "button": false,
    "deletable": true,
    "new_sheet": false,
    "run_control": {
     "read_only": false
    }
   },
   "source": [
    "## 5. Explore Trending Venues\n",
    "> `https://api.foursquare.com/v2/venues/`**trending**`?client_id=`**CLIENT_ID**`&client_secret=`**CLIENT_SECRET**`&ll=`**LATITUDE**`,`**LONGITUDE**`&v=`**VERSION**"
   ]
  },
  {
   "cell_type": "markdown",
   "metadata": {
    "button": false,
    "deletable": true,
    "new_sheet": false,
    "run_control": {
     "read_only": false
    }
   },
   "source": [
    "#### Now, instead of simply exploring the area around Ecco, you are interested in knowing the venues that are trending at the time you are done with your lunch, meaning the places with the highest foot traffic. So let's do that and get the trending venues around Ecco."
   ]
  },
  {
   "cell_type": "code",
   "execution_count": 31,
   "metadata": {
    "button": false,
    "collapsed": false,
    "deletable": true,
    "jupyter": {
     "outputs_hidden": false
    },
    "new_sheet": false,
    "run_control": {
     "read_only": false
    }
   },
   "outputs": [
    {
     "data": {
      "text/plain": [
       "{'meta': {'code': 200, 'requestId': '5e31f8c31835dd001b7ea98d'},\n",
       " 'response': {'venues': []}}"
      ]
     },
     "execution_count": 31,
     "metadata": {},
     "output_type": "execute_result"
    }
   ],
   "source": [
    "# define URL\n",
    "url = 'https://api.foursquare.com/v2/venues/trending?client_id={}&client_secret={}&ll={},{}&v={}'.format(CLIENT_ID, CLIENT_SECRET, latitude, longitude, VERSION)\n",
    "\n",
    "# send GET request and get trending venues\n",
    "results = requests.get(url).json()\n",
    "results"
   ]
  },
  {
   "cell_type": "markdown",
   "metadata": {
    "button": false,
    "deletable": true,
    "new_sheet": false,
    "run_control": {
     "read_only": false
    }
   },
   "source": [
    "### Check if any venues are trending at this time"
   ]
  },
  {
   "cell_type": "code",
   "execution_count": 32,
   "metadata": {
    "button": false,
    "deletable": true,
    "new_sheet": false,
    "run_control": {
     "read_only": false
    }
   },
   "outputs": [],
   "source": [
    "if len(results['response']['venues']) == 0:\n",
    "    trending_venues_df = 'No trending venues are available at the moment!'\n",
    "    \n",
    "else:\n",
    "    trending_venues = results['response']['venues']\n",
    "    trending_venues_df = json_normalize(trending_venues)\n",
    "\n",
    "    # filter columns\n",
    "    columns_filtered = ['name', 'categories'] + ['location.distance', 'location.city', 'location.postalCode', 'location.state', 'location.country', 'location.lat', 'location.lng']\n",
    "    trending_venues_df = trending_venues_df.loc[:, columns_filtered]\n",
    "\n",
    "    # filter the category for each row\n",
    "    trending_venues_df['categories'] = trending_venues_df.apply(get_category_type, axis=1)"
   ]
  },
  {
   "cell_type": "code",
   "execution_count": 33,
   "metadata": {
    "button": false,
    "collapsed": false,
    "deletable": true,
    "jupyter": {
     "outputs_hidden": false
    },
    "new_sheet": false,
    "run_control": {
     "read_only": false
    }
   },
   "outputs": [
    {
     "data": {
      "text/plain": [
       "'No trending venues are available at the moment!'"
      ]
     },
     "execution_count": 33,
     "metadata": {},
     "output_type": "execute_result"
    }
   ],
   "source": [
    "# display trending venues\n",
    "trending_venues_df"
   ]
  },
  {
   "cell_type": "markdown",
   "metadata": {
    "button": false,
    "deletable": true,
    "new_sheet": false,
    "run_control": {
     "read_only": false
    }
   },
   "source": [
    "Now, depending on when you run the above code, you might get different venues since the venues with the highest foot traffic are fetched live. "
   ]
  },
  {
   "cell_type": "markdown",
   "metadata": {
    "button": false,
    "deletable": true,
    "new_sheet": false,
    "run_control": {
     "read_only": false
    }
   },
   "source": [
    "### Visualize trending venues"
   ]
  },
  {
   "cell_type": "code",
   "execution_count": null,
   "metadata": {
    "button": false,
    "collapsed": false,
    "deletable": true,
    "jupyter": {
     "outputs_hidden": false
    },
    "new_sheet": false,
    "run_control": {
     "read_only": false
    }
   },
   "outputs": [],
   "source": [
    "if len(results['response']['venues']) == 0:\n",
    "    venues_map = 'Cannot generate visual as no trending venues are available at the moment!'\n",
    "\n",
    "else:\n",
    "    venues_map = folium.Map(location=[latitude, longitude], zoom_start=15) # generate map centred around Ecco\n",
    "\n",
    "\n",
    "    # add Ecco as a red circle mark\n",
    "    folium.features.CircleMarker(\n",
    "        [latitude, longitude],\n",
    "        radius=10,\n",
    "        popup='Ecco',\n",
    "        fill=True,\n",
    "        color='red',\n",
    "        fill_color='red',\n",
    "        fill_opacity=0.6\n",
    "    ).add_to(venues_map)\n",
    "\n",
    "\n",
    "    # add the trending venues as blue circle markers\n",
    "    for lat, lng, label in zip(trending_venues_df['location.lat'], trending_venues_df['location.lng'], trending_venues_df['name']):\n",
    "        folium.features.CircleMarker(\n",
    "            [lat, lng],\n",
    "            radius=5,\n",
    "            poup=label,\n",
    "            fill=True,\n",
    "            color='blue',\n",
    "            fill_color='blue',\n",
    "            fill_opacity=0.6\n",
    "        ).add_to(venues_map)"
   ]
  },
  {
   "cell_type": "code",
   "execution_count": null,
   "metadata": {
    "button": false,
    "collapsed": false,
    "deletable": true,
    "jupyter": {
     "outputs_hidden": false
    },
    "new_sheet": false,
    "run_control": {
     "read_only": false
    }
   },
   "outputs": [],
   "source": [
    "# display map\n",
    "venues_map"
   ]
  },
  {
   "cell_type": "markdown",
   "metadata": {
    "button": false,
    "deletable": true,
    "new_sheet": false,
    "run_control": {
     "read_only": false
    }
   },
   "source": [
    "<a id=\"item6\"></a>"
   ]
  },
  {
   "cell_type": "markdown",
   "metadata": {
    "button": false,
    "deletable": true,
    "new_sheet": false,
    "run_control": {
     "read_only": false
    }
   },
   "source": [
    "   "
   ]
  },
  {
   "cell_type": "markdown",
   "metadata": {
    "button": false,
    "deletable": true,
    "new_sheet": false,
    "run_control": {
     "read_only": false
    }
   },
   "source": [
    "### Thank you for completing this lab!\n",
    "\n",
    "This notebook was created by [Alex Aklson](https://www.linkedin.com/in/aklson/). I hope you found this lab interesting and educational. Feel free to contact me if you have any questions!"
   ]
  },
  {
   "cell_type": "markdown",
   "metadata": {
    "button": false,
    "deletable": true,
    "new_sheet": false,
    "run_control": {
     "read_only": false
    }
   },
   "source": [
    "This notebook is part of a course on **Coursera** called *Applied Data Science Capstone*. If you accessed this notebook outside the course, you can take this course online by clicking [here](http://cocl.us/DP0701EN_Coursera_Week2_LAB1)."
   ]
  },
  {
   "cell_type": "markdown",
   "metadata": {
    "button": false,
    "deletable": true,
    "new_sheet": false,
    "run_control": {
     "read_only": false
    }
   },
   "source": [
    "<hr>\n",
    "Copyright &copy; 2018 [Cognitive Class](https://cognitiveclass.ai/?utm_source=bducopyrightlink&utm_medium=dswb&utm_campaign=bdu). This notebook and its source code are released under the terms of the [MIT License](https://bigdatauniversity.com/mit-license/)."
   ]
  }
 ],
 "metadata": {
  "kernelspec": {
   "display_name": "Python",
   "language": "python",
   "name": "conda-env-python-py"
  },
  "language_info": {
   "codemirror_mode": {
    "name": "ipython",
    "version": 3
   },
   "file_extension": ".py",
   "mimetype": "text/x-python",
   "name": "python",
   "nbconvert_exporter": "python",
   "pygments_lexer": "ipython3",
   "version": "3.6.7"
  },
  "widgets": {
   "state": {},
   "version": "1.1.2"
  }
 },
 "nbformat": 4,
 "nbformat_minor": 4
}
