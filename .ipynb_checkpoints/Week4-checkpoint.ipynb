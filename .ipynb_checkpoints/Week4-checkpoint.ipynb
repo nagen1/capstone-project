{
 "cells": [
  {
   "cell_type": "markdown",
   "metadata": {},
   "source": [
    "# Exploring Seattle Neighborhoods - to open a Coffee shop"
   ]
  },
  {
   "cell_type": "markdown",
   "metadata": {},
   "source": [
    "#### *Web-Scraping, Foursquare API, Folium Map & Machine Learning*"
   ]
  },
  {
   "cell_type": "markdown",
   "metadata": {},
   "source": [
    "As a part of the IBM Data Science professional program Capstone Project, we worked on the real datasets to get an experience of what a data scientist goes through in real life. Main objectives of this project were to define a business problem, look for data in the web and, use Foursquare location data to find out how many coffee shops in a Seattle neighborhood and figure out the suitable location for starting a new Coffee Shop business. In this project, we will go through all the process in a step by step manner from problem designing, data preparation to final analysis and finally will provide a conclusion that can be leveraged by the business stakeholders to make their decisions."
   ]
  },
  {
   "cell_type": "markdown",
   "metadata": {},
   "source": [
    "### 1. Description of the Business Problem & Discussion of the Background (Introduction Section):"
   ]
  },
  {
   "cell_type": "markdown",
   "metadata": {},
   "source": [
    "> **Problem Statement:** Prospects / Potential of opening a *CoffeeShop* in Seattle, Washington, US."
   ]
  },
  {
   "cell_type": "markdown",
   "metadata": {},
   "source": [
    "Seattle is a seaport city on the West Coast of the United States. It is the seat of King County, Washington. With an estimated 744,955 residents as of 2018, Seattle is the largest city in both the state of Washington and the Pacific Northwest region of North America. The Seattle metropolitan area's population stands at 3.94 million, and ranks as the 15th largest in the United States. In July 2013, it was the fastest-growing major city in the United States and remained in the top 5 in May 2015 with an annual growth rate of 2.1%. Seattle is the northernmost large city in the United States.\n",
    "\n",
    "In this project we will go through step by step process to make a decision whether it is a good idea to open a Coffee Shop. We analyze the neighborhoods in Seattle to identify the most profitable area since the success of the Coffee Shop depends on the location. Since we already know the coffee business in US is growing significantly, people love to start mornings with Coffee and it's an all seasons business. It is a worth figure out and good idea to start the Coffee Shop here, but we just need to make sure whether it is a profitable idea or not. If so, where we can place it, so it yields more profit to the owner."
   ]
  },
  {
   "cell_type": "markdown",
   "metadata": {},
   "source": [
    "### 2. Data acquisition and cleaning:"
   ]
  },
  {
   "cell_type": "markdown",
   "metadata": {},
   "source": [
    "1. We are going to use “List of neighborhoods in Seattle” (https://en.wikipedia.org/wiki/List_of_neighborhoods_in_Seattle) wiki page to get all the information about the neighborhoods present in Seattle. This page has the names of the neighborhoods and large districts / borough in Seattle.\n",
    "\n",
    "2. Then we are going to use geopy python package to it's extent to query, get Seattle geographical latitude & longitude coordinates of the neighborhoods.\n",
    "\n",
    "3. After looking through in web, google was able to get information about the distribution of population by neighborhoods of Seattle in CSV format (Seattle_Neighborhood_population.CSV file located in root folder). Using this data file I’m going to identify the neighborhoods which are densely populated as it might be helpful in identifying the suitable neighborhood to open a new Coffee Shop.\n",
    "4. At this point foursquare APIs to explore, will be really helpful to get the existing Coffee Shops, Venues to identifying how many shops already in the neighborhood, get location and other information about various venues in Seattle. Using the Foursquare’s explore API (which gives venues recommendations), I’m fetching details about the venues up present in Seattle and collected their names, categories and locations (latitude and longitude).\n",
    "\n",
    "From Foursquare API (https://developer.foursquare.com/docs), we are going retrieved the following for each venue:\n",
    "Name: The name of the venue.\n",
    "Category: The category type as defined by the API.\n",
    "Latitude: The latitude value of the venue.\n",
    "Longitude: The longitude value of the venue."
   ]
  },
  {
   "cell_type": "markdown",
   "metadata": {},
   "source": [
    "https://towardsdatascience.com/exploring-toronto-neighborhoods-to-open-an-indian-restaurant-ff4dd6bf8c8a"
   ]
  }
 ],
 "metadata": {
  "kernelspec": {
   "display_name": "Python",
   "language": "python",
   "name": "conda-env-python-py"
  },
  "language_info": {
   "codemirror_mode": {
    "name": "ipython",
    "version": 3
   },
   "file_extension": ".py",
   "mimetype": "text/x-python",
   "name": "python",
   "nbconvert_exporter": "python",
   "pygments_lexer": "ipython3",
   "version": "3.6.7"
  }
 },
 "nbformat": 4,
 "nbformat_minor": 4
}
